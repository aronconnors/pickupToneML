{
 "cells": [
  {
   "cell_type": "markdown",
   "id": "1fb8dbc0",
   "metadata": {
    "tags": [
     "papermill-error-cell-tag"
    ]
   },
   "source": [
    "<span style=\"color:red; font-family:Helvetica Neue, Helvetica, Arial, sans-serif; font-size:2em;\">An Exception was encountered at '<a href=\"#papermill-error-cell\">In [5]</a>'.</span>"
   ]
  },
  {
   "cell_type": "markdown",
   "id": "24f5d2fd",
   "metadata": {
    "id": "SpXo6phTiOQM",
    "papermill": {
     "duration": 0.016623,
     "end_time": "2025-05-10T06:02:26.842014",
     "exception": false,
     "start_time": "2025-05-10T06:02:26.825391",
     "status": "completed"
    },
    "tags": []
   },
   "source": [
    "# Train a DDSP Autoencoder on GPU\n",
    "\n",
    "This notebook demonstrates how to install the DDSP library and train it for synthesis based on your own data using our command-line scripts. If run inside of Colab, it will automatically use a free Google Cloud GPU.\n",
    "\n",
    "At the end, you'll have a custom-trained checkpoint that you can download to use with the [DDSP Timbre Transfer Colab](https://colab.research.google.com/github/magenta/ddsp/blob/main/ddsp/colab/demos/timbre_transfer.ipynb).\n",
    "\n",
    "<img src=\"https://storage.googleapis.com/ddsp/additive_diagram/ddsp_autoencoder.png\" alt=\"DDSP Autoencoder figure\" width=\"700\">\n"
   ]
  },
  {
   "cell_type": "markdown",
   "id": "650d0220",
   "metadata": {
    "id": "a4vmxpj1LC7m",
    "papermill": {
     "duration": 0.012099,
     "end_time": "2025-05-10T06:02:26.869098",
     "exception": false,
     "start_time": "2025-05-10T06:02:26.856999",
     "status": "completed"
    },
    "tags": []
   },
   "source": [
    "#### Set your base directory\n",
    "* In drive, put all of the audio (.wav, .mp3) files with which you would like to train in a single folder.\n",
    " * Typically works well with 10-20 minutes of audio from a single monophonic source (also, one acoustic environment).\n",
    "* Use the file browser in the left panel to find a folder with your audio, right-click **\"Copy Path\", paste below**, and run the cell."
   ]
  },
  {
   "cell_type": "code",
   "execution_count": 1,
   "id": "1243948b",
   "metadata": {
    "colab": {
     "base_uri": "https://localhost:8080/"
    },
    "execution": {
     "iopub.execute_input": "2025-05-10T06:02:26.894584Z",
     "iopub.status.busy": "2025-05-10T06:02:26.893498Z",
     "iopub.status.idle": "2025-05-10T06:02:26.912351Z",
     "shell.execute_reply": "2025-05-10T06:02:26.910854Z"
    },
    "id": "A0bK6P9DMBTb",
    "outputId": "e00c67c2-819b-447b-87c9-92a94f41c96d",
    "papermill": {
     "duration": 0.033812,
     "end_time": "2025-05-10T06:02:26.914700",
     "exception": false,
     "start_time": "2025-05-10T06:02:26.880888",
     "status": "completed"
    },
    "tags": []
   },
   "outputs": [
    {
     "name": "stdout",
     "output_type": "stream",
     "text": [
      "Drive Folder Exists: monoGuitarDataset/singlecoil\n"
     ]
    }
   ],
   "source": [
    "#@markdown (ex. `/content/drive/My Drive/...`) Leave blank to skip loading from Drive.\n",
    "DRIVE_DIR = 'monoGuitarDataset/singlecoil' #@param {type: \"string\"}\n",
    "\n",
    "import os\n",
    "assert os.path.exists(DRIVE_DIR)\n",
    "print('Drive Folder Exists:', DRIVE_DIR)\n"
   ]
  },
  {
   "cell_type": "markdown",
   "id": "5879eb35",
   "metadata": {
    "id": "FELlizMtIxCH",
    "papermill": {
     "duration": 0.011772,
     "end_time": "2025-05-10T06:02:26.938832",
     "exception": false,
     "start_time": "2025-05-10T06:02:26.927060",
     "status": "completed"
    },
    "tags": []
   },
   "source": [
    "## Make directories to save model and data"
   ]
  },
  {
   "cell_type": "code",
   "execution_count": 2,
   "id": "cf6d10b7",
   "metadata": {
    "execution": {
     "iopub.execute_input": "2025-05-10T06:02:26.962894Z",
     "iopub.status.busy": "2025-05-10T06:02:26.962197Z",
     "iopub.status.idle": "2025-05-10T06:02:27.537342Z",
     "shell.execute_reply": "2025-05-10T06:02:27.535130Z"
    },
    "id": "Qd22WxEQI3FV",
    "papermill": {
     "duration": 0.59047,
     "end_time": "2025-05-10T06:02:27.540429",
     "exception": false,
     "start_time": "2025-05-10T06:02:26.949959",
     "status": "completed"
    },
    "tags": []
   },
   "outputs": [],
   "source": [
    "AUDIO_DIR = 'data/audio'\n",
    "AUDIO_FILEPATTERN = AUDIO_DIR + '/*'\n",
    "!mkdir -p $AUDIO_DIR\n",
    "\n",
    "SAVE_DIR = os.path.join(DRIVE_DIR, 'ddsp-solo-instrument')\n",
    "!mkdir -p \"$SAVE_DIR\""
   ]
  },
  {
   "cell_type": "markdown",
   "id": "3aab00a5",
   "metadata": {
    "id": "fb4YD8woYD1H",
    "papermill": {
     "duration": 0.012712,
     "end_time": "2025-05-10T06:02:27.567510",
     "exception": false,
     "start_time": "2025-05-10T06:02:27.554798",
     "status": "completed"
    },
    "tags": []
   },
   "source": [
    "## Prepare Dataset\n"
   ]
  },
  {
   "cell_type": "markdown",
   "id": "312e5711",
   "metadata": {
    "id": "uNhH7nEbX2db",
    "papermill": {
     "duration": 0.012035,
     "end_time": "2025-05-10T06:02:27.591578",
     "exception": false,
     "start_time": "2025-05-10T06:02:27.579543",
     "status": "completed"
    },
    "tags": []
   },
   "source": [
    "#### Upload training audio\n",
    "\n",
    "Upload audio files to use for training your model. Uses `DRIVE_DIR` if connected to drive, otherwise prompts local upload."
   ]
  },
  {
   "cell_type": "code",
   "execution_count": 3,
   "id": "2a53f366",
   "metadata": {
    "colab": {
     "base_uri": "https://localhost:8080/"
    },
    "execution": {
     "iopub.execute_input": "2025-05-10T06:02:27.617966Z",
     "iopub.status.busy": "2025-05-10T06:02:27.617218Z",
     "iopub.status.idle": "2025-05-10T06:03:58.438824Z",
     "shell.execute_reply": "2025-05-10T06:03:58.436165Z"
    },
    "id": "itVKEzF6m3rY",
    "outputId": "2111453e-8363-4657-8df6-b7129ea018b1",
    "papermill": {
     "duration": 90.838892,
     "end_time": "2025-05-10T06:03:58.442547",
     "exception": false,
     "start_time": "2025-05-10T06:02:27.603655",
     "status": "completed"
    },
    "tags": []
   },
   "outputs": [
    {
     "name": "stdout",
     "output_type": "stream",
     "text": [
      "Copying monoGuitarDataset/singlecoil/G81-40100-1111-20905.wav to data/audio/G81-40100-1111-20905.wav\n"
     ]
    },
    {
     "name": "stdout",
     "output_type": "stream",
     "text": [
      "Copying monoGuitarDataset/singlecoil/G81-42102-1111-20907.wav to data/audio/G81-42102-1111-20907.wav\n"
     ]
    },
    {
     "name": "stdout",
     "output_type": "stream",
     "text": [
      "Copying monoGuitarDataset/singlecoil/G81-43103-1111-20908.wav to data/audio/G81-43103-1111-20908.wav\n"
     ]
    },
    {
     "name": "stdout",
     "output_type": "stream",
     "text": [
      "Copying monoGuitarDataset/singlecoil/G81-41101-1111-20906.wav to data/audio/G81-41101-1111-20906.wav\n"
     ]
    },
    {
     "name": "stdout",
     "output_type": "stream",
     "text": [
      "Copying monoGuitarDataset/singlecoil/G81-45105-1111-20910.wav to data/audio/G81-45105-1111-20910.wav\n"
     ]
    },
    {
     "name": "stdout",
     "output_type": "stream",
     "text": [
      "Copying monoGuitarDataset/singlecoil/G81-44104-1111-20909.wav to data/audio/G81-44104-1111-20909.wav\n"
     ]
    },
    {
     "name": "stdout",
     "output_type": "stream",
     "text": [
      "Copying monoGuitarDataset/singlecoil/G81-46106-1111-20911.wav to data/audio/G81-46106-1111-20911.wav\n"
     ]
    },
    {
     "name": "stdout",
     "output_type": "stream",
     "text": [
      "Copying monoGuitarDataset/singlecoil/G81-47202-1111-20920.wav to data/audio/G81-47202-1111-20920.wav\n"
     ]
    },
    {
     "name": "stdout",
     "output_type": "stream",
     "text": [
      "Copying monoGuitarDataset/singlecoil/G81-47107-1111-20912.wav to data/audio/G81-47107-1111-20912.wav\n"
     ]
    },
    {
     "name": "stdout",
     "output_type": "stream",
     "text": [
      "Copying monoGuitarDataset/singlecoil/G81-46201-1111-20919.wav to data/audio/G81-46201-1111-20919.wav\n"
     ]
    },
    {
     "name": "stdout",
     "output_type": "stream",
     "text": [
      "Copying monoGuitarDataset/singlecoil/G81-49109-1111-20914.wav to data/audio/G81-49109-1111-20914.wav\n"
     ]
    },
    {
     "name": "stdout",
     "output_type": "stream",
     "text": [
      "Copying monoGuitarDataset/singlecoil/G81-48108-1111-20913.wav to data/audio/G81-48108-1111-20913.wav\n"
     ]
    },
    {
     "name": "stdout",
     "output_type": "stream",
     "text": [
      "Copying monoGuitarDataset/singlecoil/G81-48203-1111-20921.wav to data/audio/G81-48203-1111-20921.wav\n"
     ]
    },
    {
     "name": "stdout",
     "output_type": "stream",
     "text": [
      "Copying monoGuitarDataset/singlecoil/G81-49204-1111-20922.wav to data/audio/G81-49204-1111-20922.wav\n"
     ]
    },
    {
     "name": "stdout",
     "output_type": "stream",
     "text": [
      "Copying monoGuitarDataset/singlecoil/G81-45200-1111-20918.wav to data/audio/G81-45200-1111-20918.wav\n"
     ]
    },
    {
     "name": "stdout",
     "output_type": "stream",
     "text": [
      "Copying monoGuitarDataset/singlecoil/G81-50110-1111-20915.wav to data/audio/G81-50110-1111-20915.wav\n"
     ]
    },
    {
     "name": "stdout",
     "output_type": "stream",
     "text": [
      "Copying monoGuitarDataset/singlecoil/G81-50205-1111-20923.wav to data/audio/G81-50205-1111-20923.wav\n"
     ]
    },
    {
     "name": "stdout",
     "output_type": "stream",
     "text": [
      "Copying monoGuitarDataset/singlecoil/G81-51111-1111-20916.wav to data/audio/G81-51111-1111-20916.wav\n"
     ]
    },
    {
     "name": "stdout",
     "output_type": "stream",
     "text": [
      "Copying monoGuitarDataset/singlecoil/G81-50300-1111-20931.wav to data/audio/G81-50300-1111-20931.wav\n"
     ]
    },
    {
     "name": "stdout",
     "output_type": "stream",
     "text": [
      "Copying monoGuitarDataset/singlecoil/G81-51206-1111-20924.wav to data/audio/G81-51206-1111-20924.wav\n"
     ]
    },
    {
     "name": "stdout",
     "output_type": "stream",
     "text": [
      "Copying monoGuitarDataset/singlecoil/G81-51301-1111-20932.wav to data/audio/G81-51301-1111-20932.wav\n"
     ]
    },
    {
     "name": "stdout",
     "output_type": "stream",
     "text": [
      "Copying monoGuitarDataset/singlecoil/G81-52112-1111-20917.wav to data/audio/G81-52112-1111-20917.wav\n"
     ]
    },
    {
     "name": "stdout",
     "output_type": "stream",
     "text": [
      "Copying monoGuitarDataset/singlecoil/G81-52207-1111-20925.wav to data/audio/G81-52207-1111-20925.wav\n"
     ]
    },
    {
     "name": "stdout",
     "output_type": "stream",
     "text": [
      "Copying monoGuitarDataset/singlecoil/G81-53208-1111-20926.wav to data/audio/G81-53208-1111-20926.wav\n"
     ]
    },
    {
     "name": "stdout",
     "output_type": "stream",
     "text": [
      "Copying monoGuitarDataset/singlecoil/G81-52302-1111-20933.wav to data/audio/G81-52302-1111-20933.wav\n"
     ]
    },
    {
     "name": "stdout",
     "output_type": "stream",
     "text": [
      "Copying monoGuitarDataset/singlecoil/G81-53303-1111-20934.wav to data/audio/G81-53303-1111-20934.wav\n"
     ]
    },
    {
     "name": "stdout",
     "output_type": "stream",
     "text": [
      "Copying monoGuitarDataset/singlecoil/G81-54209-1111-20927.wav to data/audio/G81-54209-1111-20927.wav\n"
     ]
    },
    {
     "name": "stdout",
     "output_type": "stream",
     "text": [
      "Copying monoGuitarDataset/singlecoil/G81-55305-1111-20936.wav to data/audio/G81-55305-1111-20936.wav\n"
     ]
    },
    {
     "name": "stdout",
     "output_type": "stream",
     "text": [
      "Copying monoGuitarDataset/singlecoil/G81-55210-1111-20928.wav to data/audio/G81-55210-1111-20928.wav\n"
     ]
    },
    {
     "name": "stdout",
     "output_type": "stream",
     "text": [
      "Copying monoGuitarDataset/singlecoil/G81-54304-1111-20935.wav to data/audio/G81-54304-1111-20935.wav\n"
     ]
    },
    {
     "name": "stdout",
     "output_type": "stream",
     "text": [
      "Copying monoGuitarDataset/singlecoil/G81-56211-1111-20929.wav to data/audio/G81-56211-1111-20929.wav\n"
     ]
    },
    {
     "name": "stdout",
     "output_type": "stream",
     "text": [
      "Copying monoGuitarDataset/singlecoil/G81-55400-1111-20944.wav to data/audio/G81-55400-1111-20944.wav\n"
     ]
    },
    {
     "name": "stdout",
     "output_type": "stream",
     "text": [
      "Copying monoGuitarDataset/singlecoil/G81-56401-1111-20945.wav to data/audio/G81-56401-1111-20945.wav\n"
     ]
    },
    {
     "name": "stdout",
     "output_type": "stream",
     "text": [
      "Copying monoGuitarDataset/singlecoil/G81-56306-1111-20937.wav to data/audio/G81-56306-1111-20937.wav\n"
     ]
    },
    {
     "name": "stdout",
     "output_type": "stream",
     "text": [
      "Copying monoGuitarDataset/singlecoil/G81-57212-1111-20930.wav to data/audio/G81-57212-1111-20930.wav\n"
     ]
    },
    {
     "name": "stdout",
     "output_type": "stream",
     "text": [
      "Copying monoGuitarDataset/singlecoil/G81-57307-1111-20938.wav to data/audio/G81-57307-1111-20938.wav\n"
     ]
    },
    {
     "name": "stdout",
     "output_type": "stream",
     "text": [
      "Copying monoGuitarDataset/singlecoil/G81-57402-1111-20946.wav to data/audio/G81-57402-1111-20946.wav\n"
     ]
    },
    {
     "name": "stdout",
     "output_type": "stream",
     "text": [
      "Copying monoGuitarDataset/singlecoil/G81-58308-1111-20939.wav to data/audio/G81-58308-1111-20939.wav\n"
     ]
    },
    {
     "name": "stdout",
     "output_type": "stream",
     "text": [
      "Copying monoGuitarDataset/singlecoil/G81-58403-1111-20947.wav to data/audio/G81-58403-1111-20947.wav\n"
     ]
    },
    {
     "name": "stdout",
     "output_type": "stream",
     "text": [
      "Copying monoGuitarDataset/singlecoil/G81-59309-1111-20940.wav to data/audio/G81-59309-1111-20940.wav\n"
     ]
    },
    {
     "name": "stdout",
     "output_type": "stream",
     "text": [
      "Copying monoGuitarDataset/singlecoil/G81-59500-1111-20957.wav to data/audio/G81-59500-1111-20957.wav\n"
     ]
    },
    {
     "name": "stdout",
     "output_type": "stream",
     "text": [
      "Copying monoGuitarDataset/singlecoil/G81-60310-1111-20941.wav to data/audio/G81-60310-1111-20941.wav\n"
     ]
    },
    {
     "name": "stdout",
     "output_type": "stream",
     "text": [
      "Copying monoGuitarDataset/singlecoil/G81-59404-1111-20948.wav to data/audio/G81-59404-1111-20948.wav\n"
     ]
    },
    {
     "name": "stdout",
     "output_type": "stream",
     "text": [
      "Copying monoGuitarDataset/singlecoil/G81-60501-1111-20958.wav to data/audio/G81-60501-1111-20958.wav\n"
     ]
    },
    {
     "name": "stdout",
     "output_type": "stream",
     "text": [
      "Copying monoGuitarDataset/singlecoil/G81-60405-1111-20949.wav to data/audio/G81-60405-1111-20949.wav\n"
     ]
    },
    {
     "name": "stdout",
     "output_type": "stream",
     "text": [
      "Copying monoGuitarDataset/singlecoil/G81-61311-1111-20942.wav to data/audio/G81-61311-1111-20942.wav\n"
     ]
    },
    {
     "name": "stdout",
     "output_type": "stream",
     "text": [
      "Copying monoGuitarDataset/singlecoil/G81-61406-1111-20950.wav to data/audio/G81-61406-1111-20950.wav\n"
     ]
    },
    {
     "name": "stdout",
     "output_type": "stream",
     "text": [
      "Copying monoGuitarDataset/singlecoil/G81-62312-1111-20943.wav to data/audio/G81-62312-1111-20943.wav\n"
     ]
    },
    {
     "name": "stdout",
     "output_type": "stream",
     "text": [
      "Copying monoGuitarDataset/singlecoil/G81-61502-1111-20959.wav to data/audio/G81-61502-1111-20959.wav\n"
     ]
    },
    {
     "name": "stdout",
     "output_type": "stream",
     "text": [
      "Copying monoGuitarDataset/singlecoil/G81-62407-1111-20951.wav to data/audio/G81-62407-1111-20951.wav\n"
     ]
    },
    {
     "name": "stdout",
     "output_type": "stream",
     "text": [
      "Copying monoGuitarDataset/singlecoil/G81-62503-1111-20960.wav to data/audio/G81-62503-1111-20960.wav\n"
     ]
    },
    {
     "name": "stdout",
     "output_type": "stream",
     "text": [
      "Copying monoGuitarDataset/singlecoil/G81-63408-1111-20952.wav to data/audio/G81-63408-1111-20952.wav\n"
     ]
    },
    {
     "name": "stdout",
     "output_type": "stream",
     "text": [
      "Copying monoGuitarDataset/singlecoil/G81-64505-1111-20962.wav to data/audio/G81-64505-1111-20962.wav\n"
     ]
    },
    {
     "name": "stdout",
     "output_type": "stream",
     "text": [
      "Copying monoGuitarDataset/singlecoil/G81-64600-1111-20970.wav to data/audio/G81-64600-1111-20970.wav\n"
     ]
    },
    {
     "name": "stdout",
     "output_type": "stream",
     "text": [
      "Copying monoGuitarDataset/singlecoil/G81-63504-1111-20961.wav to data/audio/G81-63504-1111-20961.wav\n"
     ]
    },
    {
     "name": "stdout",
     "output_type": "stream",
     "text": [
      "Copying monoGuitarDataset/singlecoil/G81-65410-1111-20954.wav to data/audio/G81-65410-1111-20954.wav\n"
     ]
    },
    {
     "name": "stdout",
     "output_type": "stream",
     "text": [
      "Copying monoGuitarDataset/singlecoil/G81-65601-1111-20971.wav to data/audio/G81-65601-1111-20971.wav\n"
     ]
    },
    {
     "name": "stdout",
     "output_type": "stream",
     "text": [
      "Copying monoGuitarDataset/singlecoil/G81-65506-1111-20963.wav to data/audio/G81-65506-1111-20963.wav\n"
     ]
    },
    {
     "name": "stdout",
     "output_type": "stream",
     "text": [
      "Copying monoGuitarDataset/singlecoil/G81-66411-1111-20955.wav to data/audio/G81-66411-1111-20955.wav\n"
     ]
    },
    {
     "name": "stdout",
     "output_type": "stream",
     "text": [
      "Copying monoGuitarDataset/singlecoil/G81-66507-1111-20964.wav to data/audio/G81-66507-1111-20964.wav\n"
     ]
    },
    {
     "name": "stdout",
     "output_type": "stream",
     "text": [
      "Copying monoGuitarDataset/singlecoil/G81-67412-1111-20956.wav to data/audio/G81-67412-1111-20956.wav\n"
     ]
    },
    {
     "name": "stdout",
     "output_type": "stream",
     "text": [
      "Copying monoGuitarDataset/singlecoil/G81-66602-1111-20972.wav to data/audio/G81-66602-1111-20972.wav\n"
     ]
    },
    {
     "name": "stdout",
     "output_type": "stream",
     "text": [
      "Copying monoGuitarDataset/singlecoil/G81-67508-1111-20965.wav to data/audio/G81-67508-1111-20965.wav\n"
     ]
    },
    {
     "name": "stdout",
     "output_type": "stream",
     "text": [
      "Copying monoGuitarDataset/singlecoil/G81-67603-1111-20973.wav to data/audio/G81-67603-1111-20973.wav\n"
     ]
    },
    {
     "name": "stdout",
     "output_type": "stream",
     "text": [
      "Copying monoGuitarDataset/singlecoil/G81-68509-1111-20966.wav to data/audio/G81-68509-1111-20966.wav\n"
     ]
    },
    {
     "name": "stdout",
     "output_type": "stream",
     "text": [
      "Copying monoGuitarDataset/singlecoil/G81-69510-1111-20967.wav to data/audio/G81-69510-1111-20967.wav\n"
     ]
    },
    {
     "name": "stdout",
     "output_type": "stream",
     "text": [
      "Copying monoGuitarDataset/singlecoil/G81-69605-1111-20975.wav to data/audio/G81-69605-1111-20975.wav\n"
     ]
    },
    {
     "name": "stdout",
     "output_type": "stream",
     "text": [
      "Copying monoGuitarDataset/singlecoil/G81-68604-1111-20974.wav to data/audio/G81-68604-1111-20974.wav\n"
     ]
    },
    {
     "name": "stdout",
     "output_type": "stream",
     "text": [
      "Copying monoGuitarDataset/singlecoil/G81-71512-1111-20969.wav to data/audio/G81-71512-1111-20969.wav\n"
     ]
    },
    {
     "name": "stdout",
     "output_type": "stream",
     "text": [
      "Copying monoGuitarDataset/singlecoil/G81-70511-1111-20968.wav to data/audio/G81-70511-1111-20968.wav\n"
     ]
    },
    {
     "name": "stdout",
     "output_type": "stream",
     "text": [
      "Copying monoGuitarDataset/singlecoil/G81-70606-1111-20976.wav to data/audio/G81-70606-1111-20976.wav\n"
     ]
    },
    {
     "name": "stdout",
     "output_type": "stream",
     "text": [
      "Copying monoGuitarDataset/singlecoil/G81-71607-1111-20977.wav to data/audio/G81-71607-1111-20977.wav\n"
     ]
    },
    {
     "name": "stdout",
     "output_type": "stream",
     "text": [
      "Copying monoGuitarDataset/singlecoil/G81-73609-1111-20979.wav to data/audio/G81-73609-1111-20979.wav\n"
     ]
    },
    {
     "name": "stdout",
     "output_type": "stream",
     "text": [
      "Copying monoGuitarDataset/singlecoil/G81-72608-1111-20978.wav to data/audio/G81-72608-1111-20978.wav\n"
     ]
    },
    {
     "name": "stdout",
     "output_type": "stream",
     "text": [
      "Copying monoGuitarDataset/singlecoil/G81-74610-1111-20980.wav to data/audio/G81-74610-1111-20980.wav\n"
     ]
    },
    {
     "name": "stdout",
     "output_type": "stream",
     "text": [
      "Copying monoGuitarDataset/singlecoil/G81-76612-1111-20982.wav to data/audio/G81-76612-1111-20982.wav\n"
     ]
    },
    {
     "name": "stdout",
     "output_type": "stream",
     "text": [
      "Copying monoGuitarDataset/singlecoil/G81-75611-1111-20981.wav to data/audio/G81-75611-1111-20981.wav\n"
     ]
    },
    {
     "name": "stdout",
     "output_type": "stream",
     "text": [
      "Copying monoGuitarDataset/singlecoil/G83-40100-1111-20983.wav to data/audio/G83-40100-1111-20983.wav\n"
     ]
    },
    {
     "name": "stdout",
     "output_type": "stream",
     "text": [
      "Copying monoGuitarDataset/singlecoil/G83-41101-1111-20984.wav to data/audio/G83-41101-1111-20984.wav\n"
     ]
    },
    {
     "name": "stdout",
     "output_type": "stream",
     "text": [
      "Copying monoGuitarDataset/singlecoil/G83-42102-1111-20985.wav to data/audio/G83-42102-1111-20985.wav\n"
     ]
    },
    {
     "name": "stdout",
     "output_type": "stream",
     "text": [
      "Copying monoGuitarDataset/singlecoil/G83-43103-1111-20986.wav to data/audio/G83-43103-1111-20986.wav\n"
     ]
    },
    {
     "name": "stdout",
     "output_type": "stream",
     "text": [
      "Copying monoGuitarDataset/singlecoil/G83-45105-1111-20988.wav to data/audio/G83-45105-1111-20988.wav\n"
     ]
    },
    {
     "name": "stdout",
     "output_type": "stream",
     "text": [
      "Copying monoGuitarDataset/singlecoil/G83-44104-1111-20987.wav to data/audio/G83-44104-1111-20987.wav\n"
     ]
    },
    {
     "name": "stdout",
     "output_type": "stream",
     "text": [
      "Copying monoGuitarDataset/singlecoil/G83-45200-1111-20996.wav to data/audio/G83-45200-1111-20996.wav\n"
     ]
    },
    {
     "name": "stdout",
     "output_type": "stream",
     "text": [
      "Copying monoGuitarDataset/singlecoil/G83-46106-1111-20989.wav to data/audio/G83-46106-1111-20989.wav\n"
     ]
    },
    {
     "name": "stdout",
     "output_type": "stream",
     "text": [
      "Copying monoGuitarDataset/singlecoil/G83-46201-1111-20997.wav to data/audio/G83-46201-1111-20997.wav\n"
     ]
    },
    {
     "name": "stdout",
     "output_type": "stream",
     "text": [
      "Copying monoGuitarDataset/singlecoil/G83-47107-1111-20990.wav to data/audio/G83-47107-1111-20990.wav\n"
     ]
    },
    {
     "name": "stdout",
     "output_type": "stream",
     "text": [
      "Copying monoGuitarDataset/singlecoil/G83-47202-1111-20998.wav to data/audio/G83-47202-1111-20998.wav\n"
     ]
    },
    {
     "name": "stdout",
     "output_type": "stream",
     "text": [
      "Copying monoGuitarDataset/singlecoil/G83-48203-1111-20999.wav to data/audio/G83-48203-1111-20999.wav\n"
     ]
    },
    {
     "name": "stdout",
     "output_type": "stream",
     "text": [
      "Copying monoGuitarDataset/singlecoil/G83-48108-1111-20991.wav to data/audio/G83-48108-1111-20991.wav\n"
     ]
    },
    {
     "name": "stdout",
     "output_type": "stream",
     "text": [
      "Copying monoGuitarDataset/singlecoil/G83-49109-1111-20992.wav to data/audio/G83-49109-1111-20992.wav\n"
     ]
    },
    {
     "name": "stdout",
     "output_type": "stream",
     "text": [
      "Copying monoGuitarDataset/singlecoil/G83-49204-1111-21000.wav to data/audio/G83-49204-1111-21000.wav\n"
     ]
    },
    {
     "name": "stdout",
     "output_type": "stream",
     "text": [
      "Copying monoGuitarDataset/singlecoil/G83-50110-1111-20993.wav to data/audio/G83-50110-1111-20993.wav\n"
     ]
    },
    {
     "name": "stdout",
     "output_type": "stream",
     "text": [
      "Copying monoGuitarDataset/singlecoil/G83-50205-1111-21001.wav to data/audio/G83-50205-1111-21001.wav\n"
     ]
    },
    {
     "name": "stdout",
     "output_type": "stream",
     "text": [
      "Copying monoGuitarDataset/singlecoil/G83-50300-1111-21009.wav to data/audio/G83-50300-1111-21009.wav\n"
     ]
    },
    {
     "name": "stdout",
     "output_type": "stream",
     "text": [
      "Copying monoGuitarDataset/singlecoil/G83-51111-1111-20994.wav to data/audio/G83-51111-1111-20994.wav\n"
     ]
    },
    {
     "name": "stdout",
     "output_type": "stream",
     "text": [
      "Copying monoGuitarDataset/singlecoil/G83-52112-1111-20995.wav to data/audio/G83-52112-1111-20995.wav\n"
     ]
    },
    {
     "name": "stdout",
     "output_type": "stream",
     "text": [
      "Copying monoGuitarDataset/singlecoil/G83-51301-1111-21010.wav to data/audio/G83-51301-1111-21010.wav\n"
     ]
    },
    {
     "name": "stdout",
     "output_type": "stream",
     "text": [
      "Copying monoGuitarDataset/singlecoil/G83-51206-1111-21002.wav to data/audio/G83-51206-1111-21002.wav\n"
     ]
    },
    {
     "name": "stdout",
     "output_type": "stream",
     "text": [
      "Copying monoGuitarDataset/singlecoil/G83-52302-1111-21011.wav to data/audio/G83-52302-1111-21011.wav\n"
     ]
    },
    {
     "name": "stdout",
     "output_type": "stream",
     "text": [
      "Copying monoGuitarDataset/singlecoil/G83-52207-1111-21003.wav to data/audio/G83-52207-1111-21003.wav\n"
     ]
    },
    {
     "name": "stdout",
     "output_type": "stream",
     "text": [
      "Copying monoGuitarDataset/singlecoil/G83-53208-1111-21004.wav to data/audio/G83-53208-1111-21004.wav\n"
     ]
    },
    {
     "name": "stdout",
     "output_type": "stream",
     "text": [
      "Copying monoGuitarDataset/singlecoil/G83-53303-1111-21012.wav to data/audio/G83-53303-1111-21012.wav\n"
     ]
    },
    {
     "name": "stdout",
     "output_type": "stream",
     "text": [
      "Copying monoGuitarDataset/singlecoil/G83-54304-1111-21013.wav to data/audio/G83-54304-1111-21013.wav\n"
     ]
    },
    {
     "name": "stdout",
     "output_type": "stream",
     "text": [
      "Copying monoGuitarDataset/singlecoil/G83-54209-1111-21005.wav to data/audio/G83-54209-1111-21005.wav\n"
     ]
    },
    {
     "name": "stdout",
     "output_type": "stream",
     "text": [
      "Copying monoGuitarDataset/singlecoil/G83-55210-1111-21006.wav to data/audio/G83-55210-1111-21006.wav\n"
     ]
    },
    {
     "name": "stdout",
     "output_type": "stream",
     "text": [
      "Copying monoGuitarDataset/singlecoil/G83-55305-1111-21014.wav to data/audio/G83-55305-1111-21014.wav\n"
     ]
    },
    {
     "name": "stdout",
     "output_type": "stream",
     "text": [
      "Copying monoGuitarDataset/singlecoil/G83-55400-1111-21022.wav to data/audio/G83-55400-1111-21022.wav\n"
     ]
    },
    {
     "name": "stdout",
     "output_type": "stream",
     "text": [
      "Copying monoGuitarDataset/singlecoil/G83-56211-1111-21007.wav to data/audio/G83-56211-1111-21007.wav\n"
     ]
    },
    {
     "name": "stdout",
     "output_type": "stream",
     "text": [
      "Copying monoGuitarDataset/singlecoil/G83-56306-1111-21015.wav to data/audio/G83-56306-1111-21015.wav\n"
     ]
    },
    {
     "name": "stdout",
     "output_type": "stream",
     "text": [
      "Copying monoGuitarDataset/singlecoil/G83-56401-1111-21023.wav to data/audio/G83-56401-1111-21023.wav\n"
     ]
    },
    {
     "name": "stdout",
     "output_type": "stream",
     "text": [
      "Copying monoGuitarDataset/singlecoil/G83-57212-1111-21008.wav to data/audio/G83-57212-1111-21008.wav\n"
     ]
    },
    {
     "name": "stdout",
     "output_type": "stream",
     "text": [
      "Copying monoGuitarDataset/singlecoil/G83-57307-1111-21016.wav to data/audio/G83-57307-1111-21016.wav\n"
     ]
    },
    {
     "name": "stdout",
     "output_type": "stream",
     "text": [
      "Copying monoGuitarDataset/singlecoil/G83-57402-1111-21024.wav to data/audio/G83-57402-1111-21024.wav\n"
     ]
    },
    {
     "name": "stdout",
     "output_type": "stream",
     "text": [
      "Copying monoGuitarDataset/singlecoil/G83-58403-1111-21025.wav to data/audio/G83-58403-1111-21025.wav\n"
     ]
    },
    {
     "name": "stdout",
     "output_type": "stream",
     "text": [
      "Copying monoGuitarDataset/singlecoil/G83-59309-1111-21018.wav to data/audio/G83-59309-1111-21018.wav\n"
     ]
    },
    {
     "name": "stdout",
     "output_type": "stream",
     "text": [
      "Copying monoGuitarDataset/singlecoil/G83-58308-1111-21017.wav to data/audio/G83-58308-1111-21017.wav\n"
     ]
    },
    {
     "name": "stdout",
     "output_type": "stream",
     "text": [
      "Copying monoGuitarDataset/singlecoil/G83-59404-1111-21026.wav to data/audio/G83-59404-1111-21026.wav\n"
     ]
    },
    {
     "name": "stdout",
     "output_type": "stream",
     "text": [
      "Copying monoGuitarDataset/singlecoil/G83-59500-1111-21035.wav to data/audio/G83-59500-1111-21035.wav\n"
     ]
    },
    {
     "name": "stdout",
     "output_type": "stream",
     "text": [
      "Copying monoGuitarDataset/singlecoil/G83-60310-1111-21019.wav to data/audio/G83-60310-1111-21019.wav\n"
     ]
    },
    {
     "name": "stdout",
     "output_type": "stream",
     "text": [
      "Copying monoGuitarDataset/singlecoil/G83-60405-1111-21027.wav to data/audio/G83-60405-1111-21027.wav\n"
     ]
    },
    {
     "name": "stdout",
     "output_type": "stream",
     "text": [
      "Copying monoGuitarDataset/singlecoil/G83-60501-1111-21036.wav to data/audio/G83-60501-1111-21036.wav\n"
     ]
    },
    {
     "name": "stdout",
     "output_type": "stream",
     "text": [
      "Copying monoGuitarDataset/singlecoil/G83-61406-1111-21028.wav to data/audio/G83-61406-1111-21028.wav\n"
     ]
    },
    {
     "name": "stdout",
     "output_type": "stream",
     "text": [
      "Copying monoGuitarDataset/singlecoil/G83-61502-1111-21037.wav to data/audio/G83-61502-1111-21037.wav\n"
     ]
    },
    {
     "name": "stdout",
     "output_type": "stream",
     "text": [
      "Copying monoGuitarDataset/singlecoil/G83-62407-1111-21029.wav to data/audio/G83-62407-1111-21029.wav\n"
     ]
    },
    {
     "name": "stdout",
     "output_type": "stream",
     "text": [
      "Copying monoGuitarDataset/singlecoil/G83-62312-1111-21021.wav to data/audio/G83-62312-1111-21021.wav\n"
     ]
    },
    {
     "name": "stdout",
     "output_type": "stream",
     "text": [
      "Copying monoGuitarDataset/singlecoil/G83-63504-1111-21039.wav to data/audio/G83-63504-1111-21039.wav\n"
     ]
    },
    {
     "name": "stdout",
     "output_type": "stream",
     "text": [
      "Copying monoGuitarDataset/singlecoil/G81-64409-1111-20953.wav to data/audio/G81-64409-1111-20953.wav\n"
     ]
    },
    {
     "name": "stdout",
     "output_type": "stream",
     "text": [
      "Copying monoGuitarDataset/singlecoil/G83-63408-1111-21030.wav to data/audio/G83-63408-1111-21030.wav\n"
     ]
    },
    {
     "name": "stdout",
     "output_type": "stream",
     "text": [
      "Copying monoGuitarDataset/singlecoil/G83-64409-1111-21031.wav to data/audio/G83-64409-1111-21031.wav\n"
     ]
    },
    {
     "name": "stdout",
     "output_type": "stream",
     "text": [
      "Copying monoGuitarDataset/singlecoil/G83-64505-1111-21040.wav to data/audio/G83-64505-1111-21040.wav\n"
     ]
    },
    {
     "name": "stdout",
     "output_type": "stream",
     "text": [
      "Copying monoGuitarDataset/singlecoil/G83-64600-1111-21048.wav to data/audio/G83-64600-1111-21048.wav\n"
     ]
    },
    {
     "name": "stdout",
     "output_type": "stream",
     "text": [
      "Copying monoGuitarDataset/singlecoil/G83-65410-1111-21032.wav to data/audio/G83-65410-1111-21032.wav\n"
     ]
    },
    {
     "name": "stdout",
     "output_type": "stream",
     "text": [
      "Copying monoGuitarDataset/singlecoil/G83-65506-1111-21041.wav to data/audio/G83-65506-1111-21041.wav\n"
     ]
    },
    {
     "name": "stdout",
     "output_type": "stream",
     "text": [
      "Copying monoGuitarDataset/singlecoil/G83-65601-1111-21049.wav to data/audio/G83-65601-1111-21049.wav\n"
     ]
    },
    {
     "name": "stdout",
     "output_type": "stream",
     "text": [
      "Copying monoGuitarDataset/singlecoil/G83-66411-1111-21033.wav to data/audio/G83-66411-1111-21033.wav\n"
     ]
    },
    {
     "name": "stdout",
     "output_type": "stream",
     "text": [
      "Copying monoGuitarDataset/singlecoil/G83-66507-1111-21042.wav to data/audio/G83-66507-1111-21042.wav\n"
     ]
    },
    {
     "name": "stdout",
     "output_type": "stream",
     "text": [
      "Copying monoGuitarDataset/singlecoil/G83-67508-1111-21043.wav to data/audio/G83-67508-1111-21043.wav\n"
     ]
    },
    {
     "name": "stdout",
     "output_type": "stream",
     "text": [
      "Copying monoGuitarDataset/singlecoil/G83-67603-1111-21051.wav to data/audio/G83-67603-1111-21051.wav\n"
     ]
    },
    {
     "name": "stdout",
     "output_type": "stream",
     "text": [
      "Copying monoGuitarDataset/singlecoil/G83-67412-1111-21034.wav to data/audio/G83-67412-1111-21034.wav\n"
     ]
    },
    {
     "name": "stdout",
     "output_type": "stream",
     "text": [
      "Copying monoGuitarDataset/singlecoil/G83-66602-1111-21050.wav to data/audio/G83-66602-1111-21050.wav\n"
     ]
    },
    {
     "name": "stdout",
     "output_type": "stream",
     "text": [
      "Copying monoGuitarDataset/singlecoil/G83-68509-1111-21044.wav to data/audio/G83-68509-1111-21044.wav\n"
     ]
    },
    {
     "name": "stdout",
     "output_type": "stream",
     "text": [
      "Copying monoGuitarDataset/singlecoil/G83-68604-1111-21052.wav to data/audio/G83-68604-1111-21052.wav\n"
     ]
    },
    {
     "name": "stdout",
     "output_type": "stream",
     "text": [
      "Copying monoGuitarDataset/singlecoil/G83-69510-1111-21045.wav to data/audio/G83-69510-1111-21045.wav\n"
     ]
    },
    {
     "name": "stdout",
     "output_type": "stream",
     "text": [
      "Copying monoGuitarDataset/singlecoil/G83-69605-1111-21053.wav to data/audio/G83-69605-1111-21053.wav\n"
     ]
    },
    {
     "name": "stdout",
     "output_type": "stream",
     "text": [
      "Copying monoGuitarDataset/singlecoil/G83-70511-1111-21046.wav to data/audio/G83-70511-1111-21046.wav\n"
     ]
    },
    {
     "name": "stdout",
     "output_type": "stream",
     "text": [
      "Copying monoGuitarDataset/singlecoil/G83-61311-1111-21020.wav to data/audio/G83-61311-1111-21020.wav\n"
     ]
    },
    {
     "name": "stdout",
     "output_type": "stream",
     "text": [
      "Copying monoGuitarDataset/singlecoil/G83-62503-1111-21038.wav to data/audio/G83-62503-1111-21038.wav\n"
     ]
    },
    {
     "name": "stdout",
     "output_type": "stream",
     "text": [
      "Copying monoGuitarDataset/singlecoil/G83-70606-1111-21054.wav to data/audio/G83-70606-1111-21054.wav\n"
     ]
    },
    {
     "name": "stdout",
     "output_type": "stream",
     "text": [
      "Copying monoGuitarDataset/singlecoil/G83-71512-1111-21047.wav to data/audio/G83-71512-1111-21047.wav\n"
     ]
    },
    {
     "name": "stdout",
     "output_type": "stream",
     "text": [
      "Copying monoGuitarDataset/singlecoil/G83-71607-1111-21055.wav to data/audio/G83-71607-1111-21055.wav\n"
     ]
    },
    {
     "name": "stdout",
     "output_type": "stream",
     "text": [
      "Copying monoGuitarDataset/singlecoil/G83-72608-1111-21056.wav to data/audio/G83-72608-1111-21056.wav\n"
     ]
    },
    {
     "name": "stdout",
     "output_type": "stream",
     "text": [
      "Copying monoGuitarDataset/singlecoil/G83-73609-1111-21057.wav to data/audio/G83-73609-1111-21057.wav\n"
     ]
    },
    {
     "name": "stdout",
     "output_type": "stream",
     "text": [
      "Copying monoGuitarDataset/singlecoil/G83-74610-1111-21058.wav to data/audio/G83-74610-1111-21058.wav\n"
     ]
    },
    {
     "name": "stdout",
     "output_type": "stream",
     "text": [
      "Copying monoGuitarDataset/singlecoil/G83-75611-1111-21059.wav to data/audio/G83-75611-1111-21059.wav\n"
     ]
    },
    {
     "name": "stdout",
     "output_type": "stream",
     "text": [
      "Copying monoGuitarDataset/singlecoil/G83-76612-1111-21060.wav to data/audio/G83-76612-1111-21060.wav\n"
     ]
    },
    {
     "name": "stdout",
     "output_type": "stream",
     "text": [
      "Copying monoGuitarDataset/singlecoil/G91-40100-1111-21061.wav to data/audio/G91-40100-1111-21061.wav\n"
     ]
    },
    {
     "name": "stdout",
     "output_type": "stream",
     "text": [
      "Copying monoGuitarDataset/singlecoil/G91-41101-1111-21062.wav to data/audio/G91-41101-1111-21062.wav\n"
     ]
    },
    {
     "name": "stdout",
     "output_type": "stream",
     "text": [
      "Copying monoGuitarDataset/singlecoil/G91-42102-1111-21063.wav to data/audio/G91-42102-1111-21063.wav\n"
     ]
    },
    {
     "name": "stdout",
     "output_type": "stream",
     "text": [
      "Copying monoGuitarDataset/singlecoil/G91-45105-1111-21066.wav to data/audio/G91-45105-1111-21066.wav\n"
     ]
    },
    {
     "name": "stdout",
     "output_type": "stream",
     "text": [
      "Copying monoGuitarDataset/singlecoil/G91-44104-1111-21065.wav to data/audio/G91-44104-1111-21065.wav\n"
     ]
    },
    {
     "name": "stdout",
     "output_type": "stream",
     "text": [
      "Copying monoGuitarDataset/singlecoil/G91-43103-1111-21064.wav to data/audio/G91-43103-1111-21064.wav\n"
     ]
    },
    {
     "name": "stdout",
     "output_type": "stream",
     "text": [
      "Copying monoGuitarDataset/singlecoil/G91-46106-1111-21067.wav to data/audio/G91-46106-1111-21067.wav\n"
     ]
    },
    {
     "name": "stdout",
     "output_type": "stream",
     "text": [
      "Copying monoGuitarDataset/singlecoil/G91-45200-1111-21074.wav to data/audio/G91-45200-1111-21074.wav\n"
     ]
    },
    {
     "name": "stdout",
     "output_type": "stream",
     "text": [
      "Copying monoGuitarDataset/singlecoil/G91-46201-1111-21075.wav to data/audio/G91-46201-1111-21075.wav\n"
     ]
    },
    {
     "name": "stdout",
     "output_type": "stream",
     "text": [
      "Copying monoGuitarDataset/singlecoil/G91-47202-1111-21076.wav to data/audio/G91-47202-1111-21076.wav\n"
     ]
    },
    {
     "name": "stdout",
     "output_type": "stream",
     "text": [
      "Copying monoGuitarDataset/singlecoil/G91-48108-1111-21069.wav to data/audio/G91-48108-1111-21069.wav\n"
     ]
    },
    {
     "name": "stdout",
     "output_type": "stream",
     "text": [
      "Copying monoGuitarDataset/singlecoil/G91-47107-1111-21068.wav to data/audio/G91-47107-1111-21068.wav\n"
     ]
    },
    {
     "name": "stdout",
     "output_type": "stream",
     "text": [
      "Copying monoGuitarDataset/singlecoil/G91-48203-1111-21077.wav to data/audio/G91-48203-1111-21077.wav\n"
     ]
    },
    {
     "name": "stdout",
     "output_type": "stream",
     "text": [
      "Copying monoGuitarDataset/singlecoil/G91-49109-1111-21070.wav to data/audio/G91-49109-1111-21070.wav\n"
     ]
    },
    {
     "name": "stdout",
     "output_type": "stream",
     "text": [
      "Copying monoGuitarDataset/singlecoil/G91-49204-1111-21078.wav to data/audio/G91-49204-1111-21078.wav\n"
     ]
    },
    {
     "name": "stdout",
     "output_type": "stream",
     "text": [
      "Copying monoGuitarDataset/singlecoil/G91-50205-1111-21079.wav to data/audio/G91-50205-1111-21079.wav\n"
     ]
    },
    {
     "name": "stdout",
     "output_type": "stream",
     "text": [
      "Copying monoGuitarDataset/singlecoil/G91-50110-1111-21071.wav to data/audio/G91-50110-1111-21071.wav\n"
     ]
    },
    {
     "name": "stdout",
     "output_type": "stream",
     "text": [
      "Copying monoGuitarDataset/singlecoil/G91-50300-1111-21087.wav to data/audio/G91-50300-1111-21087.wav\n"
     ]
    },
    {
     "name": "stdout",
     "output_type": "stream",
     "text": [
      "Copying monoGuitarDataset/singlecoil/G91-51111-1111-21072.wav to data/audio/G91-51111-1111-21072.wav\n"
     ]
    },
    {
     "name": "stdout",
     "output_type": "stream",
     "text": [
      "Copying monoGuitarDataset/singlecoil/G91-51206-1111-21080.wav to data/audio/G91-51206-1111-21080.wav\n"
     ]
    },
    {
     "name": "stdout",
     "output_type": "stream",
     "text": [
      "Copying monoGuitarDataset/singlecoil/G91-51301-1111-21088.wav to data/audio/G91-51301-1111-21088.wav\n"
     ]
    },
    {
     "name": "stdout",
     "output_type": "stream",
     "text": [
      "Copying monoGuitarDataset/singlecoil/G91-53208-1111-21082.wav to data/audio/G91-53208-1111-21082.wav\n"
     ]
    },
    {
     "name": "stdout",
     "output_type": "stream",
     "text": [
      "Copying monoGuitarDataset/singlecoil/G91-53303-1111-21090.wav to data/audio/G91-53303-1111-21090.wav\n"
     ]
    },
    {
     "name": "stdout",
     "output_type": "stream",
     "text": [
      "Copying monoGuitarDataset/singlecoil/G91-54209-1111-21083.wav to data/audio/G91-54209-1111-21083.wav\n"
     ]
    },
    {
     "name": "stdout",
     "output_type": "stream",
     "text": [
      "Copying monoGuitarDataset/singlecoil/G91-54304-1111-21091.wav to data/audio/G91-54304-1111-21091.wav\n"
     ]
    },
    {
     "name": "stdout",
     "output_type": "stream",
     "text": [
      "Copying monoGuitarDataset/singlecoil/G91-55210-1111-21084.wav to data/audio/G91-55210-1111-21084.wav\n"
     ]
    },
    {
     "name": "stdout",
     "output_type": "stream",
     "text": [
      "Copying monoGuitarDataset/singlecoil/G91-55305-1111-21092.wav to data/audio/G91-55305-1111-21092.wav\n"
     ]
    },
    {
     "name": "stdout",
     "output_type": "stream",
     "text": [
      "Copying monoGuitarDataset/singlecoil/G91-55400-1111-21100.wav to data/audio/G91-55400-1111-21100.wav\n"
     ]
    },
    {
     "name": "stdout",
     "output_type": "stream",
     "text": [
      "Copying monoGuitarDataset/singlecoil/G91-56306-1111-21093.wav to data/audio/G91-56306-1111-21093.wav\n"
     ]
    },
    {
     "name": "stdout",
     "output_type": "stream",
     "text": [
      "Copying monoGuitarDataset/singlecoil/G91-56211-1111-21085.wav to data/audio/G91-56211-1111-21085.wav\n"
     ]
    },
    {
     "name": "stdout",
     "output_type": "stream",
     "text": [
      "Copying monoGuitarDataset/singlecoil/G91-57212-1111-21086.wav to data/audio/G91-57212-1111-21086.wav\n"
     ]
    },
    {
     "name": "stdout",
     "output_type": "stream",
     "text": [
      "Copying monoGuitarDataset/singlecoil/G91-56401-1111-21101.wav to data/audio/G91-56401-1111-21101.wav\n"
     ]
    },
    {
     "name": "stdout",
     "output_type": "stream",
     "text": [
      "Copying monoGuitarDataset/singlecoil/G91-57307-1111-21094.wav to data/audio/G91-57307-1111-21094.wav\n"
     ]
    },
    {
     "name": "stdout",
     "output_type": "stream",
     "text": [
      "Copying monoGuitarDataset/singlecoil/G91-57402-1111-21102.wav to data/audio/G91-57402-1111-21102.wav\n"
     ]
    },
    {
     "name": "stdout",
     "output_type": "stream",
     "text": [
      "Copying monoGuitarDataset/singlecoil/G91-58403-1111-21103.wav to data/audio/G91-58403-1111-21103.wav\n"
     ]
    },
    {
     "name": "stdout",
     "output_type": "stream",
     "text": [
      "Copying monoGuitarDataset/singlecoil/G91-59309-1111-21096.wav to data/audio/G91-59309-1111-21096.wav\n"
     ]
    },
    {
     "name": "stdout",
     "output_type": "stream",
     "text": [
      "Copying monoGuitarDataset/singlecoil/G91-59404-1111-21104.wav to data/audio/G91-59404-1111-21104.wav\n"
     ]
    },
    {
     "name": "stdout",
     "output_type": "stream",
     "text": [
      "Copying monoGuitarDataset/singlecoil/G91-58308-1111-21095.wav to data/audio/G91-58308-1111-21095.wav\n"
     ]
    },
    {
     "name": "stdout",
     "output_type": "stream",
     "text": [
      "Copying monoGuitarDataset/singlecoil/G91-60310-1111-21097.wav to data/audio/G91-60310-1111-21097.wav\n"
     ]
    },
    {
     "name": "stdout",
     "output_type": "stream",
     "text": [
      "Copying monoGuitarDataset/singlecoil/G91-59500-1111-21113.wav to data/audio/G91-59500-1111-21113.wav\n"
     ]
    },
    {
     "name": "stdout",
     "output_type": "stream",
     "text": [
      "Copying monoGuitarDataset/singlecoil/G91-60405-1111-21105.wav to data/audio/G91-60405-1111-21105.wav\n"
     ]
    },
    {
     "name": "stdout",
     "output_type": "stream",
     "text": [
      "Copying monoGuitarDataset/singlecoil/G91-61311-1111-21098.wav to data/audio/G91-61311-1111-21098.wav\n"
     ]
    },
    {
     "name": "stdout",
     "output_type": "stream",
     "text": [
      "Copying monoGuitarDataset/singlecoil/G91-60501-1111-21114.wav to data/audio/G91-60501-1111-21114.wav\n"
     ]
    },
    {
     "name": "stdout",
     "output_type": "stream",
     "text": [
      "Copying monoGuitarDataset/singlecoil/G91-61406-1111-21106.wav to data/audio/G91-61406-1111-21106.wav\n"
     ]
    },
    {
     "name": "stdout",
     "output_type": "stream",
     "text": [
      "Copying monoGuitarDataset/singlecoil/G91-61502-1111-21115.wav to data/audio/G91-61502-1111-21115.wav\n"
     ]
    },
    {
     "name": "stdout",
     "output_type": "stream",
     "text": [
      "Copying monoGuitarDataset/singlecoil/G91-62407-1111-21107.wav to data/audio/G91-62407-1111-21107.wav\n"
     ]
    },
    {
     "name": "stdout",
     "output_type": "stream",
     "text": [
      "Copying monoGuitarDataset/singlecoil/G91-62312-1111-21099.wav to data/audio/G91-62312-1111-21099.wav\n"
     ]
    },
    {
     "name": "stdout",
     "output_type": "stream",
     "text": [
      "Copying monoGuitarDataset/singlecoil/G91-62503-1111-21116.wav to data/audio/G91-62503-1111-21116.wav\n"
     ]
    },
    {
     "name": "stdout",
     "output_type": "stream",
     "text": [
      "Copying monoGuitarDataset/singlecoil/G91-63408-1111-21108.wav to data/audio/G91-63408-1111-21108.wav\n"
     ]
    },
    {
     "name": "stdout",
     "output_type": "stream",
     "text": [
      "Copying monoGuitarDataset/singlecoil/G91-63504-1111-21117.wav to data/audio/G91-63504-1111-21117.wav\n"
     ]
    },
    {
     "name": "stdout",
     "output_type": "stream",
     "text": [
      "Copying monoGuitarDataset/singlecoil/G91-64409-1111-21109.wav to data/audio/G91-64409-1111-21109.wav\n"
     ]
    },
    {
     "name": "stdout",
     "output_type": "stream",
     "text": [
      "Copying monoGuitarDataset/singlecoil/G91-65410-1111-21110.wav to data/audio/G91-65410-1111-21110.wav\n"
     ]
    },
    {
     "name": "stdout",
     "output_type": "stream",
     "text": [
      "Copying monoGuitarDataset/singlecoil/G91-64505-1111-21118.wav to data/audio/G91-64505-1111-21118.wav\n"
     ]
    },
    {
     "name": "stdout",
     "output_type": "stream",
     "text": [
      "Copying monoGuitarDataset/singlecoil/G91-64600-1111-21126.wav to data/audio/G91-64600-1111-21126.wav\n"
     ]
    },
    {
     "name": "stdout",
     "output_type": "stream",
     "text": [
      "Copying monoGuitarDataset/singlecoil/G91-65506-1111-21119.wav to data/audio/G91-65506-1111-21119.wav\n"
     ]
    },
    {
     "name": "stdout",
     "output_type": "stream",
     "text": [
      "Copying monoGuitarDataset/singlecoil/G91-66507-1111-21120.wav to data/audio/G91-66507-1111-21120.wav\n"
     ]
    },
    {
     "name": "stdout",
     "output_type": "stream",
     "text": [
      "Copying monoGuitarDataset/singlecoil/G91-65601-1111-21127.wav to data/audio/G91-65601-1111-21127.wav\n"
     ]
    },
    {
     "name": "stdout",
     "output_type": "stream",
     "text": [
      "Copying monoGuitarDataset/singlecoil/G91-66411-1111-21111.wav to data/audio/G91-66411-1111-21111.wav\n"
     ]
    },
    {
     "name": "stdout",
     "output_type": "stream",
     "text": [
      "Copying monoGuitarDataset/singlecoil/G91-66602-1111-21128.wav to data/audio/G91-66602-1111-21128.wav\n"
     ]
    },
    {
     "name": "stdout",
     "output_type": "stream",
     "text": [
      "Copying monoGuitarDataset/singlecoil/G91-67412-1111-21112.wav to data/audio/G91-67412-1111-21112.wav\n"
     ]
    },
    {
     "name": "stdout",
     "output_type": "stream",
     "text": [
      "Copying monoGuitarDataset/singlecoil/G91-67508-1111-21121.wav to data/audio/G91-67508-1111-21121.wav\n"
     ]
    },
    {
     "name": "stdout",
     "output_type": "stream",
     "text": [
      "Copying monoGuitarDataset/singlecoil/G91-67603-1111-21129.wav to data/audio/G91-67603-1111-21129.wav\n"
     ]
    },
    {
     "name": "stdout",
     "output_type": "stream",
     "text": [
      "Copying monoGuitarDataset/singlecoil/G91-68509-1111-21122.wav to data/audio/G91-68509-1111-21122.wav\n"
     ]
    },
    {
     "name": "stdout",
     "output_type": "stream",
     "text": [
      "Copying monoGuitarDataset/singlecoil/G91-68604-1111-21130.wav to data/audio/G91-68604-1111-21130.wav\n"
     ]
    },
    {
     "name": "stdout",
     "output_type": "stream",
     "text": [
      "Copying monoGuitarDataset/singlecoil/G91-69510-1111-21123.wav to data/audio/G91-69510-1111-21123.wav\n"
     ]
    },
    {
     "name": "stdout",
     "output_type": "stream",
     "text": [
      "Copying monoGuitarDataset/singlecoil/G91-52112-1111-21073.wav to data/audio/G91-52112-1111-21073.wav\n"
     ]
    },
    {
     "name": "stdout",
     "output_type": "stream",
     "text": [
      "Copying monoGuitarDataset/singlecoil/G91-52302-1111-21089.wav to data/audio/G91-52302-1111-21089.wav\n"
     ]
    },
    {
     "name": "stdout",
     "output_type": "stream",
     "text": [
      "Copying monoGuitarDataset/singlecoil/G91-52207-1111-21081.wav to data/audio/G91-52207-1111-21081.wav\n"
     ]
    },
    {
     "name": "stdout",
     "output_type": "stream",
     "text": [
      "Copying monoGuitarDataset/singlecoil/G91-71512-1111-21125.wav to data/audio/G91-71512-1111-21125.wav\n"
     ]
    },
    {
     "name": "stdout",
     "output_type": "stream",
     "text": [
      "Copying monoGuitarDataset/singlecoil/G91-69605-1111-21131.wav to data/audio/G91-69605-1111-21131.wav\n"
     ]
    },
    {
     "name": "stdout",
     "output_type": "stream",
     "text": [
      "Copying monoGuitarDataset/singlecoil/G91-71607-1111-21133.wav to data/audio/G91-71607-1111-21133.wav\n"
     ]
    },
    {
     "name": "stdout",
     "output_type": "stream",
     "text": [
      "Copying monoGuitarDataset/singlecoil/G91-72608-1111-21134.wav to data/audio/G91-72608-1111-21134.wav\n"
     ]
    },
    {
     "name": "stdout",
     "output_type": "stream",
     "text": [
      "Copying monoGuitarDataset/singlecoil/G91-70606-1111-21132.wav to data/audio/G91-70606-1111-21132.wav\n"
     ]
    },
    {
     "name": "stdout",
     "output_type": "stream",
     "text": [
      "Copying monoGuitarDataset/singlecoil/G91-73609-1111-21135.wav to data/audio/G91-73609-1111-21135.wav\n"
     ]
    },
    {
     "name": "stdout",
     "output_type": "stream",
     "text": [
      "Copying monoGuitarDataset/singlecoil/G91-74610-1111-21136.wav to data/audio/G91-74610-1111-21136.wav\n"
     ]
    },
    {
     "name": "stdout",
     "output_type": "stream",
     "text": [
      "Copying monoGuitarDataset/singlecoil/G91-76612-1111-21138.wav to data/audio/G91-76612-1111-21138.wav\n"
     ]
    },
    {
     "name": "stdout",
     "output_type": "stream",
     "text": [
      "Copying monoGuitarDataset/singlecoil/G93-40100-1111-21139.wav to data/audio/G93-40100-1111-21139.wav\n"
     ]
    },
    {
     "name": "stdout",
     "output_type": "stream",
     "text": [
      "Copying monoGuitarDataset/singlecoil/G93-41101-1111-21140.wav to data/audio/G93-41101-1111-21140.wav\n"
     ]
    },
    {
     "name": "stdout",
     "output_type": "stream",
     "text": [
      "Copying monoGuitarDataset/singlecoil/G91-75611-1111-21137.wav to data/audio/G91-75611-1111-21137.wav\n"
     ]
    },
    {
     "name": "stdout",
     "output_type": "stream",
     "text": [
      "Copying monoGuitarDataset/singlecoil/G93-42102-1111-21141.wav to data/audio/G93-42102-1111-21141.wav\n"
     ]
    },
    {
     "name": "stdout",
     "output_type": "stream",
     "text": [
      "Copying monoGuitarDataset/singlecoil/G93-43103-1111-21142.wav to data/audio/G93-43103-1111-21142.wav\n"
     ]
    },
    {
     "name": "stdout",
     "output_type": "stream",
     "text": [
      "Copying monoGuitarDataset/singlecoil/G93-45105-1111-21144.wav to data/audio/G93-45105-1111-21144.wav\n"
     ]
    },
    {
     "name": "stdout",
     "output_type": "stream",
     "text": [
      "Copying monoGuitarDataset/singlecoil/G93-44104-1111-21143.wav to data/audio/G93-44104-1111-21143.wav\n"
     ]
    },
    {
     "name": "stdout",
     "output_type": "stream",
     "text": [
      "Copying monoGuitarDataset/singlecoil/G93-46106-1111-21145.wav to data/audio/G93-46106-1111-21145.wav\n"
     ]
    },
    {
     "name": "stdout",
     "output_type": "stream",
     "text": [
      "Copying monoGuitarDataset/singlecoil/G93-46201-1111-21153.wav to data/audio/G93-46201-1111-21153.wav\n"
     ]
    },
    {
     "name": "stdout",
     "output_type": "stream",
     "text": [
      "Copying monoGuitarDataset/singlecoil/G93-45200-1111-21152.wav to data/audio/G93-45200-1111-21152.wav\n"
     ]
    },
    {
     "name": "stdout",
     "output_type": "stream",
     "text": [
      "Copying monoGuitarDataset/singlecoil/G93-47202-1111-21154.wav to data/audio/G93-47202-1111-21154.wav\n"
     ]
    },
    {
     "name": "stdout",
     "output_type": "stream",
     "text": [
      "Copying monoGuitarDataset/singlecoil/G93-47107-1111-21146.wav to data/audio/G93-47107-1111-21146.wav\n"
     ]
    },
    {
     "name": "stdout",
     "output_type": "stream",
     "text": [
      "Copying monoGuitarDataset/singlecoil/G93-48108-1111-21147.wav to data/audio/G93-48108-1111-21147.wav\n"
     ]
    },
    {
     "name": "stdout",
     "output_type": "stream",
     "text": [
      "Copying monoGuitarDataset/singlecoil/G93-49109-1111-21148.wav to data/audio/G93-49109-1111-21148.wav\n"
     ]
    },
    {
     "name": "stdout",
     "output_type": "stream",
     "text": [
      "Copying monoGuitarDataset/singlecoil/G93-48203-1111-21155.wav to data/audio/G93-48203-1111-21155.wav\n"
     ]
    },
    {
     "name": "stdout",
     "output_type": "stream",
     "text": [
      "Copying monoGuitarDataset/singlecoil/G93-49204-1111-21156.wav to data/audio/G93-49204-1111-21156.wav\n"
     ]
    },
    {
     "name": "stdout",
     "output_type": "stream",
     "text": [
      "Copying monoGuitarDataset/singlecoil/G93-50205-1111-21157.wav to data/audio/G93-50205-1111-21157.wav\n"
     ]
    },
    {
     "name": "stdout",
     "output_type": "stream",
     "text": [
      "Copying monoGuitarDataset/singlecoil/G93-50110-1111-21149.wav to data/audio/G93-50110-1111-21149.wav\n"
     ]
    },
    {
     "name": "stdout",
     "output_type": "stream",
     "text": [
      "Copying monoGuitarDataset/singlecoil/G93-51206-1111-21158.wav to data/audio/G93-51206-1111-21158.wav\n"
     ]
    },
    {
     "name": "stdout",
     "output_type": "stream",
     "text": [
      "Copying monoGuitarDataset/singlecoil/G93-51111-1111-21150.wav to data/audio/G93-51111-1111-21150.wav\n"
     ]
    },
    {
     "name": "stdout",
     "output_type": "stream",
     "text": [
      "Copying monoGuitarDataset/singlecoil/G93-50300-1111-21165.wav to data/audio/G93-50300-1111-21165.wav\n"
     ]
    },
    {
     "name": "stdout",
     "output_type": "stream",
     "text": [
      "Copying monoGuitarDataset/singlecoil/G93-51301-1111-21166.wav to data/audio/G93-51301-1111-21166.wav\n"
     ]
    },
    {
     "name": "stdout",
     "output_type": "stream",
     "text": [
      "Copying monoGuitarDataset/singlecoil/G93-52207-1111-21159.wav to data/audio/G93-52207-1111-21159.wav\n"
     ]
    },
    {
     "name": "stdout",
     "output_type": "stream",
     "text": [
      "Copying monoGuitarDataset/singlecoil/G93-52112-1111-21151.wav to data/audio/G93-52112-1111-21151.wav\n"
     ]
    },
    {
     "name": "stdout",
     "output_type": "stream",
     "text": [
      "Copying monoGuitarDataset/singlecoil/G93-52302-1111-21167.wav to data/audio/G93-52302-1111-21167.wav\n"
     ]
    },
    {
     "name": "stdout",
     "output_type": "stream",
     "text": [
      "Copying monoGuitarDataset/singlecoil/G93-53208-1111-21160.wav to data/audio/G93-53208-1111-21160.wav\n"
     ]
    },
    {
     "name": "stdout",
     "output_type": "stream",
     "text": [
      "Copying monoGuitarDataset/singlecoil/G93-53303-1111-21168.wav to data/audio/G93-53303-1111-21168.wav\n"
     ]
    },
    {
     "name": "stdout",
     "output_type": "stream",
     "text": [
      "Copying monoGuitarDataset/singlecoil/G93-54304-1111-21169.wav to data/audio/G93-54304-1111-21169.wav\n"
     ]
    },
    {
     "name": "stdout",
     "output_type": "stream",
     "text": [
      "Copying monoGuitarDataset/singlecoil/G93-54209-1111-21161.wav to data/audio/G93-54209-1111-21161.wav\n"
     ]
    },
    {
     "name": "stdout",
     "output_type": "stream",
     "text": [
      "Copying monoGuitarDataset/singlecoil/G93-55210-1111-21162.wav to data/audio/G93-55210-1111-21162.wav\n"
     ]
    },
    {
     "name": "stdout",
     "output_type": "stream",
     "text": [
      "Copying monoGuitarDataset/singlecoil/G93-55305-1111-21170.wav to data/audio/G93-55305-1111-21170.wav\n"
     ]
    },
    {
     "name": "stdout",
     "output_type": "stream",
     "text": [
      "Copying monoGuitarDataset/singlecoil/G93-56306-1111-21171.wav to data/audio/G93-56306-1111-21171.wav\n"
     ]
    },
    {
     "name": "stdout",
     "output_type": "stream",
     "text": [
      "Copying monoGuitarDataset/singlecoil/G93-55400-1111-21178.wav to data/audio/G93-55400-1111-21178.wav\n"
     ]
    },
    {
     "name": "stdout",
     "output_type": "stream",
     "text": [
      "Copying monoGuitarDataset/singlecoil/G93-56401-1111-21179.wav to data/audio/G93-56401-1111-21179.wav\n"
     ]
    },
    {
     "name": "stdout",
     "output_type": "stream",
     "text": [
      "Copying monoGuitarDataset/singlecoil/G93-57212-1111-21164.wav to data/audio/G93-57212-1111-21164.wav\n"
     ]
    },
    {
     "name": "stdout",
     "output_type": "stream",
     "text": [
      "Copying monoGuitarDataset/singlecoil/G93-56211-1111-21163.wav to data/audio/G93-56211-1111-21163.wav\n"
     ]
    },
    {
     "name": "stdout",
     "output_type": "stream",
     "text": [
      "Copying monoGuitarDataset/singlecoil/G93-58308-1111-21173.wav to data/audio/G93-58308-1111-21173.wav\n"
     ]
    },
    {
     "name": "stdout",
     "output_type": "stream",
     "text": [
      "Copying monoGuitarDataset/singlecoil/G93-57307-1111-21172.wav to data/audio/G93-57307-1111-21172.wav\n"
     ]
    },
    {
     "name": "stdout",
     "output_type": "stream",
     "text": [
      "Copying monoGuitarDataset/singlecoil/G93-57402-1111-21180.wav to data/audio/G93-57402-1111-21180.wav\n"
     ]
    },
    {
     "name": "stdout",
     "output_type": "stream",
     "text": [
      "Copying monoGuitarDataset/singlecoil/G93-58403-1111-21181.wav to data/audio/G93-58403-1111-21181.wav\n"
     ]
    },
    {
     "name": "stdout",
     "output_type": "stream",
     "text": [
      "Copying monoGuitarDataset/singlecoil/G93-59309-1111-21174.wav to data/audio/G93-59309-1111-21174.wav\n"
     ]
    },
    {
     "name": "stdout",
     "output_type": "stream",
     "text": [
      "Copying monoGuitarDataset/singlecoil/G93-59500-1111-21191.wav to data/audio/G93-59500-1111-21191.wav\n"
     ]
    },
    {
     "name": "stdout",
     "output_type": "stream",
     "text": [
      "Copying monoGuitarDataset/singlecoil/G93-60310-1111-21175.wav to data/audio/G93-60310-1111-21175.wav\n"
     ]
    },
    {
     "name": "stdout",
     "output_type": "stream",
     "text": [
      "Copying monoGuitarDataset/singlecoil/G93-59404-1111-21182.wav to data/audio/G93-59404-1111-21182.wav\n"
     ]
    },
    {
     "name": "stdout",
     "output_type": "stream",
     "text": [
      "Copying monoGuitarDataset/singlecoil/G93-60405-1111-21183.wav to data/audio/G93-60405-1111-21183.wav\n"
     ]
    },
    {
     "name": "stdout",
     "output_type": "stream",
     "text": [
      "Copying monoGuitarDataset/singlecoil/G93-60501-1111-21192.wav to data/audio/G93-60501-1111-21192.wav\n"
     ]
    },
    {
     "name": "stdout",
     "output_type": "stream",
     "text": [
      "Copying monoGuitarDataset/singlecoil/G93-61406-1111-21184.wav to data/audio/G93-61406-1111-21184.wav\n"
     ]
    },
    {
     "name": "stdout",
     "output_type": "stream",
     "text": [
      "Copying monoGuitarDataset/singlecoil/G93-61311-1111-21176.wav to data/audio/G93-61311-1111-21176.wav\n"
     ]
    },
    {
     "name": "stdout",
     "output_type": "stream",
     "text": [
      "Copying monoGuitarDataset/singlecoil/G93-61502-1111-21193.wav to data/audio/G93-61502-1111-21193.wav\n"
     ]
    },
    {
     "name": "stdout",
     "output_type": "stream",
     "text": [
      "Copying monoGuitarDataset/singlecoil/G93-62312-1111-21177.wav to data/audio/G93-62312-1111-21177.wav\n"
     ]
    },
    {
     "name": "stdout",
     "output_type": "stream",
     "text": [
      "Copying monoGuitarDataset/singlecoil/G93-62503-1111-21194.wav to data/audio/G93-62503-1111-21194.wav\n"
     ]
    },
    {
     "name": "stdout",
     "output_type": "stream",
     "text": [
      "Copying monoGuitarDataset/singlecoil/G93-63408-1111-21186.wav to data/audio/G93-63408-1111-21186.wav\n"
     ]
    },
    {
     "name": "stdout",
     "output_type": "stream",
     "text": [
      "Copying monoGuitarDataset/singlecoil/G93-62407-1111-21185.wav to data/audio/G93-62407-1111-21185.wav\n"
     ]
    },
    {
     "name": "stdout",
     "output_type": "stream",
     "text": [
      "Copying monoGuitarDataset/singlecoil/G93-63504-1111-21195.wav to data/audio/G93-63504-1111-21195.wav\n"
     ]
    },
    {
     "name": "stdout",
     "output_type": "stream",
     "text": [
      "Copying monoGuitarDataset/singlecoil/G93-64409-1111-21187.wav to data/audio/G93-64409-1111-21187.wav\n"
     ]
    },
    {
     "name": "stdout",
     "output_type": "stream",
     "text": [
      "Copying monoGuitarDataset/singlecoil/G93-64600-1111-21204.wav to data/audio/G93-64600-1111-21204.wav\n"
     ]
    },
    {
     "name": "stdout",
     "output_type": "stream",
     "text": [
      "Copying monoGuitarDataset/singlecoil/G93-65410-1111-21188.wav to data/audio/G93-65410-1111-21188.wav\n"
     ]
    },
    {
     "name": "stdout",
     "output_type": "stream",
     "text": [
      "Copying monoGuitarDataset/singlecoil/G93-64505-1111-21196.wav to data/audio/G93-64505-1111-21196.wav\n"
     ]
    },
    {
     "name": "stdout",
     "output_type": "stream",
     "text": [
      "Copying monoGuitarDataset/singlecoil/G93-65506-1111-21197.wav to data/audio/G93-65506-1111-21197.wav\n"
     ]
    },
    {
     "name": "stdout",
     "output_type": "stream",
     "text": [
      "Copying monoGuitarDataset/singlecoil/G93-65601-1111-21205.wav to data/audio/G93-65601-1111-21205.wav\n"
     ]
    },
    {
     "name": "stdout",
     "output_type": "stream",
     "text": [
      "Copying monoGuitarDataset/singlecoil/G93-66411-1111-21189.wav to data/audio/G93-66411-1111-21189.wav\n"
     ]
    },
    {
     "name": "stdout",
     "output_type": "stream",
     "text": [
      "Copying monoGuitarDataset/singlecoil/G93-66507-1111-21198.wav to data/audio/G93-66507-1111-21198.wav\n"
     ]
    },
    {
     "name": "stdout",
     "output_type": "stream",
     "text": [
      "Copying monoGuitarDataset/singlecoil/G93-66602-1111-21206.wav to data/audio/G93-66602-1111-21206.wav\n"
     ]
    },
    {
     "name": "stdout",
     "output_type": "stream",
     "text": [
      "Copying monoGuitarDataset/singlecoil/G93-67508-1111-21199.wav to data/audio/G93-67508-1111-21199.wav\n"
     ]
    },
    {
     "name": "stdout",
     "output_type": "stream",
     "text": [
      "Copying monoGuitarDataset/singlecoil/G93-67603-1111-21207.wav to data/audio/G93-67603-1111-21207.wav\n"
     ]
    },
    {
     "name": "stdout",
     "output_type": "stream",
     "text": [
      "Copying monoGuitarDataset/singlecoil/G93-67412-1111-21190.wav to data/audio/G93-67412-1111-21190.wav\n"
     ]
    },
    {
     "name": "stdout",
     "output_type": "stream",
     "text": [
      "Copying monoGuitarDataset/singlecoil/G93-68509-1111-21200.wav to data/audio/G93-68509-1111-21200.wav\n"
     ]
    },
    {
     "name": "stdout",
     "output_type": "stream",
     "text": [
      "Copying monoGuitarDataset/singlecoil/G93-68604-1111-21208.wav to data/audio/G93-68604-1111-21208.wav\n"
     ]
    },
    {
     "name": "stdout",
     "output_type": "stream",
     "text": [
      "Copying monoGuitarDataset/singlecoil/G93-69605-1111-21209.wav to data/audio/G93-69605-1111-21209.wav\n"
     ]
    },
    {
     "name": "stdout",
     "output_type": "stream",
     "text": [
      "Copying monoGuitarDataset/singlecoil/G93-69510-1111-21201.wav to data/audio/G93-69510-1111-21201.wav\n"
     ]
    },
    {
     "name": "stdout",
     "output_type": "stream",
     "text": [
      "Copying monoGuitarDataset/singlecoil/G93-70511-1111-21202.wav to data/audio/G93-70511-1111-21202.wav\n"
     ]
    },
    {
     "name": "stdout",
     "output_type": "stream",
     "text": [
      "Copying monoGuitarDataset/singlecoil/G93-70606-1111-21210.wav to data/audio/G93-70606-1111-21210.wav\n"
     ]
    },
    {
     "name": "stdout",
     "output_type": "stream",
     "text": [
      "Copying monoGuitarDataset/singlecoil/G93-71512-1111-21203.wav to data/audio/G93-71512-1111-21203.wav\n"
     ]
    },
    {
     "name": "stdout",
     "output_type": "stream",
     "text": [
      "Copying monoGuitarDataset/singlecoil/G93-71607-1111-21211.wav to data/audio/G93-71607-1111-21211.wav\n"
     ]
    },
    {
     "name": "stdout",
     "output_type": "stream",
     "text": [
      "Copying monoGuitarDataset/singlecoil/G93-73609-1111-21213.wav to data/audio/G93-73609-1111-21213.wav\n"
     ]
    },
    {
     "name": "stdout",
     "output_type": "stream",
     "text": [
      "Copying monoGuitarDataset/singlecoil/G93-74610-1111-21214.wav to data/audio/G93-74610-1111-21214.wav\n"
     ]
    },
    {
     "name": "stdout",
     "output_type": "stream",
     "text": [
      "Copying monoGuitarDataset/singlecoil/G93-72608-1111-21212.wav to data/audio/G93-72608-1111-21212.wav\n"
     ]
    },
    {
     "name": "stdout",
     "output_type": "stream",
     "text": [
      "Copying monoGuitarDataset/singlecoil/G93-75611-1111-21215.wav to data/audio/G93-75611-1111-21215.wav\n"
     ]
    },
    {
     "name": "stdout",
     "output_type": "stream",
     "text": [
      "Copying monoGuitarDataset/singlecoil/G93-76612-1111-21216.wav to data/audio/G93-76612-1111-21216.wav\n"
     ]
    },
    {
     "name": "stdout",
     "output_type": "stream",
     "text": [
      "Copying monoGuitarDataset/singlecoil/G91-70511-1111-21124.wav to data/audio/G91-70511-1111-21124.wav\n"
     ]
    }
   ],
   "source": [
    "import glob\n",
    "import os\n",
    "#from ddsp.colab import colab_utils\n",
    "\n",
    "mp3_files = glob.glob(os.path.join(DRIVE_DIR, '*.mp3'))\n",
    "wav_files = glob.glob(os.path.join(DRIVE_DIR, '*.wav'))\n",
    "audio_files = mp3_files + wav_files\n",
    "\n",
    "for fname in audio_files:\n",
    "  target_name = os.path.join(AUDIO_DIR, os.path.basename(fname).replace(' ', '_'))\n",
    "  print('Copying {} to {}'.format(fname, target_name))\n",
    "  !cp \"$fname\" $target_name"
   ]
  },
  {
   "cell_type": "markdown",
   "id": "ff93ac8a",
   "metadata": {
    "id": "g_XVFoN2YOat",
    "papermill": {
     "duration": 0.120976,
     "end_time": "2025-05-10T06:03:58.613101",
     "exception": false,
     "start_time": "2025-05-10T06:03:58.492125",
     "status": "completed"
    },
    "tags": []
   },
   "source": [
    "### Preprocess raw audio into TFRecord dataset\n",
    "\n",
    "We need to do some preprocessing on the raw audio you uploaded to get it into the correct format for training. This involves turning the full audio into short (4-second) examples, inferring the fundamental frequency (or \"pitch\") with [CREPE](http://github.com/marl/crepe), and computing the loudness. These features will then be stored in a sharded [TFRecord](https://www.tensorflow.org/tutorials/load_data/tfrecord) file for easier loading. Depending on the amount of input audio, this process usually takes a few minutes.\n",
    "\n",
    "* (Optional) Transfer dataset from drive. If you've already created a dataset, from a previous run, this cell will skip the dataset creation step and copy the dataset from `$DRIVE_DIR/data`"
   ]
  },
  {
   "cell_type": "code",
   "execution_count": 4,
   "id": "9b5b0b69",
   "metadata": {
    "colab": {
     "base_uri": "https://localhost:8080/"
    },
    "execution": {
     "iopub.execute_input": "2025-05-10T06:03:58.666361Z",
     "iopub.status.busy": "2025-05-10T06:03:58.665580Z",
     "iopub.status.idle": "2025-05-10T06:04:41.766397Z",
     "shell.execute_reply": "2025-05-10T06:04:41.763347Z"
    },
    "id": "MsnkAHyHVrCW",
    "outputId": "d008f97d-e512-4e81-89cf-74346cbd2b07",
    "papermill": {
     "duration": 43.132,
     "end_time": "2025-05-10T06:04:41.769328",
     "exception": false,
     "start_time": "2025-05-10T06:03:58.637328",
     "status": "completed"
    },
    "tags": []
   },
   "outputs": [
    {
     "name": "stdout",
     "output_type": "stream",
     "text": [
      "/u/erdos/csga/aconnors9/.conda/envs/guitar/lib/python3.8/site-packages/resampy/interpn.py:114: NumbaWarning: The TBB threading layer requires TBB version 2019.5 or later i.e., TBB_INTERFACE_VERSION >= 11005. Found TBB_INTERFACE_VERSION = 6103. The TBB threading layer is disabled.\r\n",
      "  _resample_loop_p(x, t_out, interp_win, interp_delta, num_table, scale, y)\r\n"
     ]
    },
    {
     "name": "stdout",
     "output_type": "stream",
     "text": [
      "/u/erdos/csga/aconnors9/.conda/envs/guitar/lib/python3.8/site-packages/pydub/utils.py:170: RuntimeWarning: Couldn't find ffmpeg or avconv - defaulting to ffmpeg, but may not work\r\n",
      "  warn(\"Couldn't find ffmpeg or avconv - defaulting to ffmpeg, but may not work\", RuntimeWarning)\r\n"
     ]
    },
    {
     "name": "stdout",
     "output_type": "stream",
     "text": [
      "2025-05-10 02:04:38.650346: W tensorflow/stream_executor/platform/default/dso_loader.cc:64] Could not load dynamic library 'libcudnn.so.8'; dlerror: libcudnn.so.8: cannot open shared object file: No such file or directory; LD_LIBRARY_PATH: /cm/local/apps/cuda/libs/current/lib64:/cm/shared/apps/cuda11.2/toolkit/11.2.2/targets/x86_64-linux/lib\r\n",
      "2025-05-10 02:04:38.650414: W tensorflow/core/common_runtime/gpu/gpu_device.cc:1835] Cannot dlopen some GPU libraries. Please make sure the missing libraries mentioned above are installed properly if you would like to use GPU. Follow the guide at https://www.tensorflow.org/install/gpu for how to download and setup the required libraries for your platform.\r\n",
      "Skipping registering GPU devices...\r\n"
     ]
    },
    {
     "name": "stdout",
     "output_type": "stream",
     "text": [
      "I0510 02:04:39.145765 46912496380032 translations.py:613] ==================== <function annotate_downstream_side_inputs at 0x2aac0bd12160> ====================\r\n",
      "I0510 02:04:39.146691 46912496380032 translations.py:613] ==================== <function fix_side_input_pcoll_coders at 0x2aac0bd12280> ====================\r\n",
      "I0510 02:04:39.147187 46912496380032 translations.py:613] ==================== <function eliminate_common_key_with_none at 0x2aac0bd123a0> ====================\r\n",
      "I0510 02:04:39.147695 46912496380032 translations.py:613] ==================== <function pack_combiners at 0x2aac0bd12430> ====================\r\n",
      "I0510 02:04:39.147973 46912496380032 translations.py:613] ==================== <function lift_combiners at 0x2aac0bd124c0> ====================\r\n",
      "I0510 02:04:39.148173 46912496380032 translations.py:613] ==================== <function expand_sdf at 0x2aac0bd12550> ====================\r\n",
      "I0510 02:04:39.148520 46912496380032 translations.py:613] ==================== <function expand_gbk at 0x2aac0bd125e0> ====================\r\n",
      "I0510 02:04:39.149065 46912496380032 translations.py:613] ==================== <function sink_flattens at 0x2aac0bd12700> ====================\r\n",
      "I0510 02:04:39.149309 46912496380032 translations.py:613] ==================== <function greedily_fuse at 0x2aac0bd12790> ====================\r\n",
      "I0510 02:04:39.151099 46912496380032 translations.py:613] ==================== <function read_to_impulse at 0x2aac0bd12820> ====================\r\n",
      "I0510 02:04:39.151292 46912496380032 translations.py:613] ==================== <function impulse_to_input at 0x2aac0bd128b0> ====================\r\n",
      "I0510 02:04:39.151498 46912496380032 translations.py:613] ==================== <function sort_stages at 0x2aac0bd12af0> ====================\r\n",
      "I0510 02:04:39.151642 46912496380032 translations.py:613] ==================== <function setup_timer_mapping at 0x2aac0bd12a60> ====================\r\n",
      "I0510 02:04:39.151969 46912496380032 translations.py:613] ==================== <function populate_data_channel_coders at 0x2aac0bd12b80> ====================\r\n",
      "I0510 02:04:39.154971 46912496380032 statecache.py:154] Creating state cache with size 100\r\n",
      "I0510 02:04:39.155941 46912496380032 worker_handlers.py:843] Created Worker handler <apache_beam.runners.portability.fn_api_runner.worker_handlers.EmbeddedWorkerHandler object at 0x2aac0bd75b20> for environment ref_Environment_default_environment_1 (beam:env:embedded_python:v1, b'')\r\n",
      "I0510 02:04:39.156161 46912496380032 fn_runner.py:491] Running ((((ref_AppliedPTransform_Create/Impulse_3)+(ref_AppliedPTransform_Create/FlatMap(<lambda at core.py:2945>)_4))+(ref_AppliedPTransform_Create/MaybeReshuffle/Reshuffle/AddRandomKeys_7))+(ref_AppliedPTransform_Create/MaybeReshuffle/Reshuffle/ReshufflePerKey/Map(reify_timestamps)_9))+(Create/MaybeReshuffle/Reshuffle/ReshufflePerKey/GroupByKey/Write)\r\n",
      "I0510 02:04:39.179879 46912496380032 fn_runner.py:491] Running (((((((((((Create/MaybeReshuffle/Reshuffle/ReshufflePerKey/GroupByKey/Read)+(ref_AppliedPTransform_Create/MaybeReshuffle/Reshuffle/ReshufflePerKey/FlatMap(restore_timestamps)_11))+(ref_AppliedPTransform_Create/MaybeReshuffle/Reshuffle/RemoveRandomKeys_12))+(ref_AppliedPTransform_Create/Map(decode)_13))+(ref_AppliedPTransform_Map(_load_audio)_14))+(ref_AppliedPTransform_Map(_add_f0_estimate)_15))+(ref_AppliedPTransform_Map(add_loudness)_16))+(ref_AppliedPTransform_FlatMap(split_example)_17))+(ref_AppliedPTransform_create_batches_18))+(ref_AppliedPTransform_reshuffle/AddRandomKeys_20))+(ref_AppliedPTransform_reshuffle/ReshufflePerKey/Map(reify_timestamps)_22))+(reshuffle/ReshufflePerKey/GroupByKey/Write)\r\n"
     ]
    },
    {
     "name": "stdout",
     "output_type": "stream",
     "text": [
      "I0510 02:04:39.214982 46912496380032 prepare_tfrecord_lib.py:58] Loading 'data/audio/G81-40100-1111-20905.wav'.\r\n",
      "/u/erdos/csga/aconnors9/.conda/envs/guitar/lib/python3.8/site-packages/pydub/utils.py:198: RuntimeWarning: Couldn't find ffprobe or avprobe - defaulting to ffprobe, but may not work\r\n",
      "  warn(\"Couldn't find ffprobe or avprobe - defaulting to ffprobe, but may not work\", RuntimeWarning)\r\n"
     ]
    },
    {
     "name": "stdout",
     "output_type": "stream",
     "text": [
      "Traceback (most recent call last):\r\n",
      "  File \"apache_beam/runners/common.py\", line 1213, in apache_beam.runners.common.DoFnRunner.process\r\n",
      "  File \"apache_beam/runners/common.py\", line 742, in apache_beam.runners.common.PerWindowInvoker.invoke_process\r\n",
      "  File \"apache_beam/runners/common.py\", line 867, in apache_beam.runners.common.PerWindowInvoker._invoke_process_per_window\r\n",
      "  File \"/u/erdos/csga/aconnors9/.conda/envs/guitar/lib/python3.8/site-packages/apache_beam/transforms/core.py\", line 1616, in <lambda>\r\n",
      "    wrapper = lambda x, *args, **kwargs: [fn(x, *args, **kwargs)]\r\n",
      "  File \"/u/erdos/csga/aconnors9/.conda/envs/guitar/lib/python3.8/site-packages/ddsp/training/data_preparation/prepare_tfrecord_lib.py\", line 60, in _load_audio\r\n",
      "    audio = _load_audio_as_array(audio_path, sample_rate)\r\n",
      "  File \"/u/erdos/csga/aconnors9/.conda/envs/guitar/lib/python3.8/site-packages/ddsp/training/data_preparation/prepare_tfrecord_lib.py\", line 42, in _load_audio_as_array\r\n",
      "    audio_segment = (pydub.AudioSegment.from_file(f).set_channels(1))\r\n",
      "  File \"/u/erdos/csga/aconnors9/.conda/envs/guitar/lib/python3.8/site-packages/pydub/audio_segment.py\", line 728, in from_file\r\n",
      "    info = mediainfo_json(orig_file, read_ahead_limit=read_ahead_limit)\r\n",
      "  File \"/u/erdos/csga/aconnors9/.conda/envs/guitar/lib/python3.8/site-packages/pydub/utils.py\", line 274, in mediainfo_json\r\n",
      "    res = Popen(command, stdin=stdin_parameter, stdout=PIPE, stderr=PIPE)\r\n",
      "  File \"/u/erdos/csga/aconnors9/.conda/envs/guitar/lib/python3.8/subprocess.py\", line 858, in __init__\r\n",
      "    self._execute_child(args, executable, preexec_fn, close_fds,\r\n",
      "  File \"/u/erdos/csga/aconnors9/.conda/envs/guitar/lib/python3.8/subprocess.py\", line 1720, in _execute_child\r\n",
      "    raise child_exception_type(errno_num, err_msg, err_filename)\r\n",
      "FileNotFoundError: [Errno 2] No such file or directory: 'ffprobe'\r\n",
      "\r\n",
      "During handling of the above exception, another exception occurred:\r\n",
      "\r\n",
      "Traceback (most recent call last):\r\n",
      "  File \"/u/erdos/csga/aconnors9/.conda/envs/guitar/bin/ddsp_prepare_tfrecord\", line 8, in <module>\r\n",
      "    sys.exit(console_entry_point())\r\n",
      "  File \"/u/erdos/csga/aconnors9/.conda/envs/guitar/lib/python3.8/site-packages/ddsp/training/data_preparation/ddsp_prepare_tfrecord.py\", line 99, in console_entry_point\r\n",
      "    app.run(main)\r\n",
      "  File \"/u/erdos/csga/aconnors9/.conda/envs/guitar/lib/python3.8/site-packages/absl/app.py\", line 312, in run\r\n",
      "    _run_main(main, args)\r\n",
      "  File \"/u/erdos/csga/aconnors9/.conda/envs/guitar/lib/python3.8/site-packages/absl/app.py\", line 258, in _run_main\r\n",
      "    sys.exit(main(argv))\r\n",
      "  File \"/u/erdos/csga/aconnors9/.conda/envs/guitar/lib/python3.8/site-packages/ddsp/training/data_preparation/ddsp_prepare_tfrecord.py\", line 94, in main\r\n",
      "    run()\r\n",
      "  File \"/u/erdos/csga/aconnors9/.conda/envs/guitar/lib/python3.8/site-packages/ddsp/training/data_preparation/ddsp_prepare_tfrecord.py\", line 79, in run\r\n",
      "    prepare_tfrecord(\r\n",
      "  File \"/u/erdos/csga/aconnors9/.conda/envs/guitar/lib/python3.8/site-packages/ddsp/training/data_preparation/prepare_tfrecord_lib.py\", line 224, in prepare_tfrecord\r\n",
      "    postprocess_pipeline(examples, output_tfrecord_path)\r\n",
      "  File \"/u/erdos/csga/aconnors9/.conda/envs/guitar/lib/python3.8/site-packages/apache_beam/pipeline.py\", line 568, in __exit__\r\n",
      "    self.result = self.run()\r\n",
      "  File \"/u/erdos/csga/aconnors9/.conda/envs/guitar/lib/python3.8/site-packages/apache_beam/pipeline.py\", line 547, in run\r\n",
      "    return self.runner.run_pipeline(self, self._options)\r\n",
      "  File \"/u/erdos/csga/aconnors9/.conda/envs/guitar/lib/python3.8/site-packages/apache_beam/runners/direct/direct_runner.py\", line 119, in run_pipeline\r\n",
      "    return runner.run_pipeline(pipeline, options)\r\n",
      "  File \"/u/erdos/csga/aconnors9/.conda/envs/guitar/lib/python3.8/site-packages/apache_beam/runners/portability/fn_api_runner/fn_runner.py\", line 175, in run_pipeline\r\n",
      "    self._latest_run_result = self.run_via_runner_api(\r\n",
      "  File \"/u/erdos/csga/aconnors9/.conda/envs/guitar/lib/python3.8/site-packages/apache_beam/runners/portability/fn_api_runner/fn_runner.py\", line 186, in run_via_runner_api\r\n",
      "    return self.run_stages(stage_context, stages)\r\n",
      "  File \"/u/erdos/csga/aconnors9/.conda/envs/guitar/lib/python3.8/site-packages/apache_beam/runners/portability/fn_api_runner/fn_runner.py\", line 344, in run_stages\r\n",
      "    stage_results = self._run_stage(\r\n",
      "  File \"/u/erdos/csga/aconnors9/.conda/envs/guitar/lib/python3.8/site-packages/apache_beam/runners/portability/fn_api_runner/fn_runner.py\", line 527, in _run_stage\r\n",
      "    last_result, deferred_inputs, fired_timers = self._run_bundle(\r\n",
      "  File \"/u/erdos/csga/aconnors9/.conda/envs/guitar/lib/python3.8/site-packages/apache_beam/runners/portability/fn_api_runner/fn_runner.py\", line 571, in _run_bundle\r\n",
      "    result, splits = bundle_manager.process_bundle(\r\n",
      "  File \"/u/erdos/csga/aconnors9/.conda/envs/guitar/lib/python3.8/site-packages/apache_beam/runners/portability/fn_api_runner/fn_runner.py\", line 852, in process_bundle\r\n",
      "    result_future = self._worker_handler.control_conn.push(process_bundle_req)\r\n",
      "  File \"/u/erdos/csga/aconnors9/.conda/envs/guitar/lib/python3.8/site-packages/apache_beam/runners/portability/fn_api_runner/worker_handlers.py\", line 353, in push\r\n",
      "    response = self.worker.do_instruction(request)\r\n",
      "  File \"/u/erdos/csga/aconnors9/.conda/envs/guitar/lib/python3.8/site-packages/apache_beam/runners/worker/sdk_worker.py\", line 483, in do_instruction\r\n",
      "    return getattr(self, request_type)(\r\n",
      "  File \"/u/erdos/csga/aconnors9/.conda/envs/guitar/lib/python3.8/site-packages/apache_beam/runners/worker/sdk_worker.py\", line 519, in process_bundle\r\n",
      "    bundle_processor.process_bundle(instruction_id))\r\n",
      "  File \"/u/erdos/csga/aconnors9/.conda/envs/guitar/lib/python3.8/site-packages/apache_beam/runners/worker/bundle_processor.py\", line 984, in process_bundle\r\n",
      "    input_op_by_transform_id[element.transform_id].process_encoded(\r\n",
      "  File \"/u/erdos/csga/aconnors9/.conda/envs/guitar/lib/python3.8/site-packages/apache_beam/runners/worker/bundle_processor.py\", line 221, in process_encoded\r\n",
      "    self.output(decoded_value)\r\n",
      "  File \"apache_beam/runners/worker/operations.py\", line 354, in apache_beam.runners.worker.operations.Operation.output\r\n",
      "  File \"apache_beam/runners/worker/operations.py\", line 356, in apache_beam.runners.worker.operations.Operation.output\r\n",
      "  File \"apache_beam/runners/worker/operations.py\", line 218, in apache_beam.runners.worker.operations.SingletonConsumerSet.receive\r\n",
      "  File \"apache_beam/runners/worker/operations.py\", line 703, in apache_beam.runners.worker.operations.DoOperation.process\r\n",
      "  File \"apache_beam/runners/worker/operations.py\", line 704, in apache_beam.runners.worker.operations.DoOperation.process\r\n",
      "  File \"apache_beam/runners/common.py\", line 1215, in apache_beam.runners.common.DoFnRunner.process\r\n",
      "  File \"apache_beam/runners/common.py\", line 1279, in apache_beam.runners.common.DoFnRunner._reraise_augmented\r\n",
      "  File \"apache_beam/runners/common.py\", line 1213, in apache_beam.runners.common.DoFnRunner.process\r\n",
      "  File \"apache_beam/runners/common.py\", line 569, in apache_beam.runners.common.SimpleInvoker.invoke_process\r\n",
      "  File \"apache_beam/runners/common.py\", line 1374, in apache_beam.runners.common._OutputProcessor.process_outputs\r\n",
      "  File \"apache_beam/runners/worker/operations.py\", line 218, in apache_beam.runners.worker.operations.SingletonConsumerSet.receive\r\n",
      "  File \"apache_beam/runners/worker/operations.py\", line 703, in apache_beam.runners.worker.operations.DoOperation.process\r\n",
      "  File \"apache_beam/runners/worker/operations.py\", line 704, in apache_beam.runners.worker.operations.DoOperation.process\r\n",
      "  File \"apache_beam/runners/common.py\", line 1215, in apache_beam.runners.common.DoFnRunner.process\r\n",
      "  File \"apache_beam/runners/common.py\", line 1279, in apache_beam.runners.common.DoFnRunner._reraise_augmented\r\n",
      "  File \"apache_beam/runners/common.py\", line 1213, in apache_beam.runners.common.DoFnRunner.process\r\n",
      "  File \"apache_beam/runners/common.py\", line 569, in apache_beam.runners.common.SimpleInvoker.invoke_process\r\n",
      "  File \"apache_beam/runners/common.py\", line 1374, in apache_beam.runners.common._OutputProcessor.process_outputs\r\n",
      "  File \"apache_beam/runners/worker/operations.py\", line 218, in apache_beam.runners.worker.operations.SingletonConsumerSet.receive\r\n",
      "  File \"apache_beam/runners/worker/operations.py\", line 703, in apache_beam.runners.worker.operations.DoOperation.process\r\n",
      "  File \"apache_beam/runners/worker/operations.py\", line 704, in apache_beam.runners.worker.operations.DoOperation.process\r\n",
      "  File \"apache_beam/runners/common.py\", line 1215, in apache_beam.runners.common.DoFnRunner.process\r\n",
      "  File \"apache_beam/runners/common.py\", line 1279, in apache_beam.runners.common.DoFnRunner._reraise_augmented\r\n",
      "  File \"apache_beam/runners/common.py\", line 1213, in apache_beam.runners.common.DoFnRunner.process\r\n",
      "  File \"apache_beam/runners/common.py\", line 569, in apache_beam.runners.common.SimpleInvoker.invoke_process\r\n",
      "  File \"apache_beam/runners/common.py\", line 1374, in apache_beam.runners.common._OutputProcessor.process_outputs\r\n",
      "  File \"apache_beam/runners/worker/operations.py\", line 218, in apache_beam.runners.worker.operations.SingletonConsumerSet.receive\r\n",
      "  File \"apache_beam/runners/worker/operations.py\", line 703, in apache_beam.runners.worker.operations.DoOperation.process\r\n",
      "  File \"apache_beam/runners/worker/operations.py\", line 704, in apache_beam.runners.worker.operations.DoOperation.process\r\n",
      "  File \"apache_beam/runners/common.py\", line 1215, in apache_beam.runners.common.DoFnRunner.process\r\n",
      "  File \"apache_beam/runners/common.py\", line 1294, in apache_beam.runners.common.DoFnRunner._reraise_augmented\r\n",
      "  File \"/u/erdos/csga/aconnors9/.conda/envs/guitar/lib/python3.8/site-packages/future/utils/__init__.py\", line 449, in raise_with_traceback\r\n",
      "    raise exc.with_traceback(traceback)\r\n",
      "  File \"apache_beam/runners/common.py\", line 1213, in apache_beam.runners.common.DoFnRunner.process\r\n",
      "  File \"apache_beam/runners/common.py\", line 742, in apache_beam.runners.common.PerWindowInvoker.invoke_process\r\n",
      "  File \"apache_beam/runners/common.py\", line 867, in apache_beam.runners.common.PerWindowInvoker._invoke_process_per_window\r\n",
      "  File \"/u/erdos/csga/aconnors9/.conda/envs/guitar/lib/python3.8/site-packages/apache_beam/transforms/core.py\", line 1616, in <lambda>\r\n",
      "    wrapper = lambda x, *args, **kwargs: [fn(x, *args, **kwargs)]\r\n",
      "  File \"/u/erdos/csga/aconnors9/.conda/envs/guitar/lib/python3.8/site-packages/ddsp/training/data_preparation/prepare_tfrecord_lib.py\", line 60, in _load_audio\r\n",
      "    audio = _load_audio_as_array(audio_path, sample_rate)\r\n",
      "  File \"/u/erdos/csga/aconnors9/.conda/envs/guitar/lib/python3.8/site-packages/ddsp/training/data_preparation/prepare_tfrecord_lib.py\", line 42, in _load_audio_as_array\r\n",
      "    audio_segment = (pydub.AudioSegment.from_file(f).set_channels(1))\r\n",
      "  File \"/u/erdos/csga/aconnors9/.conda/envs/guitar/lib/python3.8/site-packages/pydub/audio_segment.py\", line 728, in from_file\r\n",
      "    info = mediainfo_json(orig_file, read_ahead_limit=read_ahead_limit)\r\n",
      "  File \"/u/erdos/csga/aconnors9/.conda/envs/guitar/lib/python3.8/site-packages/pydub/utils.py\", line 274, in mediainfo_json\r\n"
     ]
    },
    {
     "name": "stdout",
     "output_type": "stream",
     "text": [
      "    res = Popen(command, stdin=stdin_parameter, stdout=PIPE, stderr=PIPE)\r\n",
      "  File \"/u/erdos/csga/aconnors9/.conda/envs/guitar/lib/python3.8/subprocess.py\", line 858, in __init__\r\n",
      "    self._execute_child(args, executable, preexec_fn, close_fds,\r\n",
      "  File \"/u/erdos/csga/aconnors9/.conda/envs/guitar/lib/python3.8/subprocess.py\", line 1720, in _execute_child\r\n",
      "    raise child_exception_type(errno_num, err_msg, err_filename)\r\n",
      "RuntimeError: FileNotFoundError: [Errno 2] No such file or directory: 'ffprobe' [while running 'Map(_load_audio)']\r\n"
     ]
    },
    {
     "name": "stdout",
     "output_type": "stream",
     "text": [
      "mkdir: cannot create directory ‘monoGuitarDataset/singlecoil/data/’: File exists\r\n"
     ]
    },
    {
     "name": "stdout",
     "output_type": "stream",
     "text": [
      "Saving to monoGuitarDataset/singlecoil/data\n"
     ]
    },
    {
     "name": "stdout",
     "output_type": "stream",
     "text": [
      "cp: cannot stat ‘data/train.tfrecord*’: No such file or directory\r\n"
     ]
    }
   ],
   "source": [
    "import glob\n",
    "import os\n",
    "\n",
    "TRAIN_TFRECORD = 'data/train.tfrecord'\n",
    "TRAIN_TFRECORD_FILEPATTERN = TRAIN_TFRECORD + '*'\n",
    "\n",
    "# Copy dataset from drive if dataset has already been created.\n",
    "drive_data_dir = os.path.join(DRIVE_DIR, 'data')\n",
    "drive_dataset_files = glob.glob(drive_data_dir + '/*')\n",
    "\n",
    "if DRIVE_DIR and len(drive_dataset_files) > 0:\n",
    "  !cp \"$drive_data_dir\"/* data/\n",
    "\n",
    "else:\n",
    "  # Make a new dataset.\n",
    "  if not glob.glob(AUDIO_FILEPATTERN):\n",
    "    raise ValueError('No audio files found. Please use the previous cell to upload.')\n",
    "\n",
    "  !ddsp_prepare_tfrecord \\\n",
    "    --input_audio_filepatterns=$AUDIO_FILEPATTERN \\\n",
    "    --output_tfrecord_path=$TRAIN_TFRECORD \\\n",
    "    --num_shards=10 \\\n",
    "    --alsologtostderr\n",
    "\n",
    "  # Copy dataset to drive for safe-keeping.\n",
    "  if DRIVE_DIR:\n",
    "    !mkdir \"$drive_data_dir\"/\n",
    "    print('Saving to {}'.format(drive_data_dir))\n",
    "    !cp $TRAIN_TFRECORD_FILEPATTERN \"$drive_data_dir\"/"
   ]
  },
  {
   "cell_type": "markdown",
   "id": "b283e82b",
   "metadata": {
    "id": "d4toX-D-AYZL",
    "papermill": {
     "duration": 0.038427,
     "end_time": "2025-05-10T06:04:41.857895",
     "exception": false,
     "start_time": "2025-05-10T06:04:41.819468",
     "status": "completed"
    },
    "tags": []
   },
   "source": [
    "### Save dataset statistics for timbre transfer\n",
    "\n",
    "Quantile normalization helps match loudness of timbre transfer inputs to the\n",
    "loudness of the dataset, so let's calculate it here and save in a pickle file."
   ]
  },
  {
   "cell_type": "markdown",
   "id": "4b760f0f",
   "metadata": {
    "tags": [
     "papermill-error-cell-tag"
    ]
   },
   "source": [
    "<span id=\"papermill-error-cell\" style=\"color:red; font-family:Helvetica Neue, Helvetica, Arial, sans-serif; font-size:2em;\">Execution using papermill encountered an exception here and stopped:</span>"
   ]
  },
  {
   "cell_type": "code",
   "execution_count": 5,
   "id": "20db0c34",
   "metadata": {
    "execution": {
     "iopub.execute_input": "2025-05-10T06:04:41.923289Z",
     "iopub.status.busy": "2025-05-10T06:04:41.922556Z",
     "iopub.status.idle": "2025-05-10T06:04:58.293892Z",
     "shell.execute_reply": "2025-05-10T06:04:58.292967Z"
    },
    "id": "Bp_c8P0xApY6",
    "papermill": {
     "duration": 16.406311,
     "end_time": "2025-05-10T06:04:58.296583",
     "exception": true,
     "start_time": "2025-05-10T06:04:41.890272",
     "status": "failed"
    },
    "tags": []
   },
   "outputs": [
    {
     "name": "stderr",
     "output_type": "stream",
     "text": [
      "/u/erdos/csga/aconnors9/.conda/envs/guitar/lib/python3.8/site-packages/resampy/interpn.py:114: NumbaWarning: The TBB threading layer requires TBB version 2019.5 or later i.e., TBB_INTERFACE_VERSION >= 11005. Found TBB_INTERFACE_VERSION = 6103. The TBB threading layer is disabled.\n",
      "  _resample_loop_p(x, t_out, interp_win, interp_delta, num_table, scale, y)\n"
     ]
    },
    {
     "name": "stderr",
     "output_type": "stream",
     "text": [
      "/u/erdos/csga/aconnors9/.conda/envs/guitar/lib/python3.8/site-packages/tqdm/auto.py:21: TqdmWarning: IProgress not found. Please update jupyter and ipywidgets. See https://ipywidgets.readthedocs.io/en/stable/user_install.html\n",
      "  from .autonotebook import tqdm as notebook_tqdm\n"
     ]
    },
    {
     "name": "stderr",
     "output_type": "stream",
     "text": [
      "/u/erdos/csga/aconnors9/.conda/envs/guitar/lib/python3.8/site-packages/pydub/utils.py:170: RuntimeWarning: Couldn't find ffmpeg or avconv - defaulting to ffmpeg, but may not work\n",
      "  warn(\"Couldn't find ffmpeg or avconv - defaulting to ffmpeg, but may not work\", RuntimeWarning)\n"
     ]
    },
    {
     "ename": "ImportError",
     "evalue": "cannot import name 'compute_dataset_statistics' from 'ddsp.training.data_preparation' (/u/erdos/csga/aconnors9/.conda/envs/guitar/lib/python3.8/site-packages/ddsp/training/data_preparation/__init__.py)",
     "output_type": "error",
     "traceback": [
      "\u001b[0;31m---------------------------------------------------------------------------\u001b[0m",
      "\u001b[0;31mImportError\u001b[0m                               Traceback (most recent call last)",
      "Cell \u001b[0;32mIn[5], line 3\u001b[0m\n\u001b[1;32m      1\u001b[0m \u001b[38;5;28;01mimport\u001b[39;00m\u001b[38;5;250m \u001b[39m\u001b[38;5;21;01mddsp\u001b[39;00m\u001b[38;5;21;01m.\u001b[39;00m\u001b[38;5;21;01mtraining\u001b[39;00m\n\u001b[1;32m      2\u001b[0m \u001b[38;5;28;01mfrom\u001b[39;00m\u001b[38;5;250m \u001b[39m\u001b[38;5;21;01mddsp\u001b[39;00m\u001b[38;5;21;01m.\u001b[39;00m\u001b[38;5;21;01mtraining\u001b[39;00m\u001b[38;5;21;01m.\u001b[39;00m\u001b[38;5;21;01mdata\u001b[39;00m\u001b[38;5;250m \u001b[39m\u001b[38;5;28;01mimport\u001b[39;00m TFRecordProvider\n\u001b[0;32m----> 3\u001b[0m \u001b[38;5;28;01mfrom\u001b[39;00m\u001b[38;5;250m \u001b[39m\u001b[38;5;21;01mddsp\u001b[39;00m\u001b[38;5;21;01m.\u001b[39;00m\u001b[38;5;21;01mtraining\u001b[39;00m\u001b[38;5;21;01m.\u001b[39;00m\u001b[38;5;21;01mdata_preparation\u001b[39;00m\u001b[38;5;250m \u001b[39m\u001b[38;5;28;01mimport\u001b[39;00m compute_dataset_statistics\n\u001b[1;32m      4\u001b[0m \u001b[38;5;28;01mimport\u001b[39;00m\u001b[38;5;250m \u001b[39m\u001b[38;5;21;01mpickle\u001b[39;00m\n\u001b[1;32m      5\u001b[0m \u001b[38;5;28;01mimport\u001b[39;00m\u001b[38;5;250m \u001b[39m\u001b[38;5;21;01mos\u001b[39;00m\n",
      "\u001b[0;31mImportError\u001b[0m: cannot import name 'compute_dataset_statistics' from 'ddsp.training.data_preparation' (/u/erdos/csga/aconnors9/.conda/envs/guitar/lib/python3.8/site-packages/ddsp/training/data_preparation/__init__.py)"
     ]
    }
   ],
   "source": [
    "import ddsp.training\n",
    "from ddsp.training.data import TFRecordProvider\n",
    "from ddsp.training.data_preparation import compute_dataset_statistics\n",
    "import pickle\n",
    "import os\n",
    "\n",
    "data_provider = TFRecordProvider(TRAIN_TFRECORD_FILEPATTERN)\n",
    "dataset = data_provider.get_dataset(shuffle=False)\n",
    "PICKLE_FILE_PATH = os.path.join(SAVE_DIR, 'dataset_statistics.pkl')\n",
    "\n",
    "# Compute stats\n",
    "stats = compute_dataset_statistics(data_provider, batch_size=1)\n",
    "\n",
    "# Save to pickle file\n",
    "with open(PICKLE_FILE_PATH, 'wb') as f:\n",
    "    pickle.dump(stats, f)\n"
   ]
  },
  {
   "cell_type": "markdown",
   "id": "ab67a08d",
   "metadata": {
    "id": "nIsq0HrzbOF7",
    "papermill": {
     "duration": null,
     "end_time": null,
     "exception": null,
     "start_time": null,
     "status": "pending"
    },
    "tags": []
   },
   "source": [
    "Let's load the dataset in the `ddsp` library and have a look at one of the examples."
   ]
  },
  {
   "cell_type": "code",
   "execution_count": null,
   "id": "a9bae2ea",
   "metadata": {
    "id": "dA-FOmRgYdpZ",
    "papermill": {
     "duration": null,
     "end_time": null,
     "exception": null,
     "start_time": null,
     "status": "pending"
    },
    "tags": []
   },
   "outputs": [],
   "source": [
    "import ddsp.training\n",
    "from ddsp.training.data import TFRecordProvider\n",
    "from matplotlib import pyplot as plt\n",
    "import numpy as np\n",
    "import soundfile as sf\n",
    "import os\n",
    "\n",
    "# Setup data provider\n",
    "data_provider = TFRecordProvider(TRAIN_TFRECORD_FILEPATTERN)\n",
    "dataset = data_provider.get_dataset(shuffle=False)\n",
    "\n",
    "# Get one example\n",
    "try:\n",
    "    ex = next(iter(dataset))\n",
    "except StopIteration:\n",
    "    raise ValueError(\n",
    "        'TFRecord contains no examples. Please try re-running the pipeline with different audio file(s).')\n",
    "\n",
    "# === REPLACE colab_utils.specplot ===\n",
    "plt.figure(figsize=(14, 4))\n",
    "plt.specgram(ex['audio'].numpy(), Fs=16000)\n",
    "plt.title('Spectrogram')\n",
    "plt.xlabel('Time')\n",
    "plt.ylabel('Frequency')\n",
    "plt.show()\n",
    "\n",
    "# === REPLACE colab_utils.play ===\n",
    "# Save audio to file (so you can play it later on local machine)\n",
    "output_audio_path = os.path.join(SAVE_DIR, 'example_audio.wav')\n",
    "sf.write(output_audio_path, ex['audio'].numpy(), 16000)\n",
    "print(f\"✅ Audio saved to {output_audio_path}\")\n",
    "\n",
    "# === Plot loudness, F0, confidence ===\n",
    "f, ax = plt.subplots(3, 1, figsize=(14, 4))\n",
    "x = np.linspace(0, 4.0, 1000)\n",
    "ax[0].set_ylabel('loudness_db')\n",
    "ax[0].plot(x, ex['loudness_db'])\n",
    "ax[1].set_ylabel('F0_Hz')\n",
    "ax[1].set_xlabel('seconds')\n",
    "ax[1].plot(x, ex['f0_hz'])\n",
    "ax[2].set_ylabel('F0_confidence')\n",
    "ax[2].set_xlabel('seconds')\n",
    "ax[2].plot(x, ex['f0_confidence'])\n",
    "plt.tight_layout()\n",
    "plt.show()\n"
   ]
  },
  {
   "cell_type": "markdown",
   "id": "fb80bb7d",
   "metadata": {
    "id": "9gvXBa7PbuyY",
    "papermill": {
     "duration": null,
     "end_time": null,
     "exception": null,
     "start_time": null,
     "status": "pending"
    },
    "tags": []
   },
   "source": [
    "## Train Model\n",
    "\n",
    "We will now train a \"solo instrument\" model. This means the model is conditioned only on the fundamental frequency (f0) and loudness with no instrument ID or latent timbre feature. If you uploaded audio of multiple instruemnts, the neural network you train will attempt to model all timbres, but will likely associate certain timbres with different f0 and loudness conditions."
   ]
  },
  {
   "cell_type": "markdown",
   "id": "cf38e0b0",
   "metadata": {
    "id": "YpwQkSIKjEMZ",
    "papermill": {
     "duration": null,
     "end_time": null,
     "exception": null,
     "start_time": null,
     "status": "pending"
    },
    "tags": []
   },
   "source": [
    "First, let's start up a [TensorBoard](https://www.tensorflow.org/tensorboard) to monitor our loss as training proceeds.\n",
    "\n",
    "Initially, TensorBoard will report `No dashboards are active for the current data set.`, but once training begins, the dashboards should appear."
   ]
  },
  {
   "cell_type": "code",
   "execution_count": null,
   "id": "d3bd9499",
   "metadata": {
    "id": "u2lx7yJneUXT",
    "papermill": {
     "duration": null,
     "end_time": null,
     "exception": null,
     "start_time": null,
     "status": "pending"
    },
    "tags": []
   },
   "outputs": [],
   "source": [
    "%reload_ext tensorboard\n",
    "import tensorboard as tb\n",
    "tb.notebook.start('--logdir \"{}\"'.format(SAVE_DIR))"
   ]
  },
  {
   "cell_type": "markdown",
   "id": "e48f6290",
   "metadata": {
    "id": "fT-8Koyvj46w",
    "papermill": {
     "duration": null,
     "end_time": null,
     "exception": null,
     "start_time": null,
     "status": "pending"
    },
    "tags": []
   },
   "source": [
    "### We will now begin training.\n",
    "\n",
    "Note that we specify [gin configuration](https://github.com/google/gin-config) files for the both the model architecture ([solo_instrument.gin](TODO)) and the dataset ([tfrecord.gin](TODO)), which are both predefined in the library. You could also create your own. We then override some of the spefic params for `batch_size` (which is defined in in the model gin file) and the tfrecord path (which is defined in the dataset file).\n",
    "\n",
    "### Training Notes:\n",
    "* Models typically perform well when the loss drops to the range of ~4.5-5.0.\n",
    "* Depending on the dataset this can take anywhere from 5k-30k training steps usually.\n",
    "* The default is set to 30k, but you can stop training at any time, and for timbre transfer, it's best to stop before the loss drops too far below ~5.0 to avoid overfitting.\n",
    "* On the colab GPU, this can take from around 3-20 hours.\n",
    "* We **highly recommend** saving checkpoints directly to your drive account as colab will restart naturally after about 12 hours and you may lose all of your checkpoints.\n",
    "* By default, checkpoints will be saved every 300 steps with a maximum of 10 checkpoints (at ~60MB/checkpoint this is ~600MB). Feel free to adjust these numbers depending on the frequency of saves you would like and space on your drive.\n",
    "* If you're restarting a session and `DRIVE_DIR` points a directory that was previously used for training, training should resume at the last checkpoint."
   ]
  },
  {
   "cell_type": "code",
   "execution_count": null,
   "id": "dc15f187",
   "metadata": {
    "id": "poKO-mZEGYXZ",
    "papermill": {
     "duration": null,
     "end_time": null,
     "exception": null,
     "start_time": null,
     "status": "pending"
    },
    "tags": []
   },
   "outputs": [],
   "source": [
    "!ddsp_run \\\n",
    "  --mode=train \\\n",
    "  --alsologtostderr \\\n",
    "  --save_dir=\"$SAVE_DIR\" \\\n",
    "  --gin_file=models/solo_instrument.gin \\\n",
    "  --gin_file=datasets/tfrecord.gin \\\n",
    "  --gin_param=\"TFRecordProvider.file_pattern='$TRAIN_TFRECORD_FILEPATTERN'\" \\\n",
    "  --gin_param=\"batch_size=16\" \\\n",
    "  --gin_param=\"train_util.train.num_steps=30000\" \\\n",
    "  --gin_param=\"train_util.train.steps_per_save=300\" \\\n",
    "  --gin_param=\"trainers.Trainer.checkpoints_to_keep=10\""
   ]
  },
  {
   "cell_type": "markdown",
   "id": "3bbe7da7",
   "metadata": {
    "id": "V95qxVjFzWR6",
    "papermill": {
     "duration": null,
     "end_time": null,
     "exception": null,
     "start_time": null,
     "status": "pending"
    },
    "tags": []
   },
   "source": [
    "## Resynthesis\n",
    "\n",
    "Check how well the model reconstructs the training data"
   ]
  },
  {
   "cell_type": "code",
   "execution_count": null,
   "id": "4280a685",
   "metadata": {
    "id": "OQ5PPDZVzgFR",
    "papermill": {
     "duration": null,
     "end_time": null,
     "exception": null,
     "start_time": null,
     "status": "pending"
    },
    "tags": []
   },
   "outputs": [],
   "source": [
    "import ddsp.training\n",
    "import gin\n",
    "from matplotlib import pyplot as plt\n",
    "import numpy as np\n",
    "import soundfile as sf\n",
    "import os\n",
    "\n",
    "# Setup data provider\n",
    "data_provider = ddsp.training.data.TFRecordProvider(TRAIN_TFRECORD_FILEPATTERN)\n",
    "dataset = data_provider.get_batch(batch_size=1, shuffle=False)\n",
    "\n",
    "# Get one batch\n",
    "try:\n",
    "    batch = next(iter(dataset))\n",
    "except StopIteration:\n",
    "    raise ValueError(\n",
    "        'TFRecord contains no examples. Please try re-running the pipeline with '\n",
    "        'different audio file(s).')\n",
    "\n",
    "# Parse the gin config\n",
    "gin_file = os.path.join(SAVE_DIR, 'operative_config-0.gin')\n",
    "gin.parse_config_file(gin_file)\n",
    "\n",
    "# Load model\n",
    "model = ddsp.training.models.Autoencoder()\n",
    "model.restore(SAVE_DIR)\n",
    "\n",
    "# Resynthesize audio\n",
    "outputs = model(batch, training=False)\n",
    "audio_gen = model.get_audio_from_outputs(outputs)\n",
    "audio = batch['audio']\n",
    "\n",
    "# === REPLACE specplot ===\n",
    "def plot_specgram(waveform, sample_rate=16000, title='Spectrogram'):\n",
    "    plt.figure(figsize=(14, 4))\n",
    "    plt.specgram(waveform.numpy()[0], Fs=sample_rate)\n",
    "    plt.title(title)\n",
    "    plt.xlabel('Time (s)')\n",
    "    plt.ylabel('Frequency (Hz)')\n",
    "    plt.show()\n",
    "\n",
    "# === REPLACE play ===\n",
    "def save_audio(waveform, path, sample_rate=16000):\n",
    "    sf.write(path, waveform.numpy()[0], sample_rate)\n",
    "    print(f\"✅ Saved audio to {path}\")\n",
    "\n",
    "# Plot and save original audio\n",
    "print('Original Audio')\n",
    "plot_specgram(audio)\n",
    "save_audio(audio, os.path.join(SAVE_DIR, 'original_audio.wav'))\n",
    "\n",
    "# Plot and save resynthesized audio\n",
    "print('Resynthesis')\n",
    "plot_specgram(audio_gen)\n",
    "save_audio(audio_gen, os.path.join(SAVE_DIR, 'resynthesis_audio.wav'))\n"
   ]
  },
  {
   "cell_type": "markdown",
   "id": "d4024d05",
   "metadata": {
    "id": "ZXM2ynLQ2Wl3",
    "papermill": {
     "duration": null,
     "end_time": null,
     "exception": null,
     "start_time": null,
     "status": "pending"
    },
    "tags": []
   },
   "source": [
    "## Download Checkpoint\n",
    "\n",
    "Below you can download the final checkpoint. You are now ready to use it in the [DDSP Timbre Tranfer Colab](https://colab.research.google.com/github/magenta/ddsp/blob/main/ddsp/colab/demos/timbre_transfer.ipynb)."
   ]
  },
  {
   "cell_type": "code",
   "execution_count": null,
   "id": "9cae1a79",
   "metadata": {
    "id": "2WDiCyXP0tNE",
    "papermill": {
     "duration": null,
     "end_time": null,
     "exception": null,
     "start_time": null,
     "status": "pending"
    },
    "tags": []
   },
   "outputs": [],
   "source": [
    "import tensorflow as tf\n",
    "import os\n",
    "import subprocess\n",
    "import shutil\n",
    "\n",
    "# Define filenames\n",
    "CHECKPOINT_ZIP = 'my_solo_instrument.zip'\n",
    "\n",
    "# Find latest checkpoint\n",
    "latest_checkpoint_path = tf.train.latest_checkpoint(SAVE_DIR)\n",
    "if latest_checkpoint_path is None:\n",
    "    raise ValueError(\"No checkpoint found in SAVE_DIR\")\n",
    "\n",
    "latest_checkpoint_fname = os.path.basename(latest_checkpoint_path)\n",
    "\n",
    "# Create the zip file\n",
    "zip_command = (\n",
    "    f'cd \"{SAVE_DIR}\" && zip {CHECKPOINT_ZIP} {latest_checkpoint_fname}* '\n",
    "    'operative_config-0.gin dataset_statistics.pkl'\n",
    ")\n",
    "subprocess.run(zip_command, shell=True, check=True)\n",
    "\n",
    "# Copy zip to current directory\n",
    "src = os.path.join(SAVE_DIR, CHECKPOINT_ZIP)\n",
    "dst = os.path.join('./', CHECKPOINT_ZIP)\n",
    "shutil.copy(src, dst)\n",
    "\n",
    "print(f\"✅ Checkpoint ZIP saved as {dst}\")\n",
    "\n",
    "# Print instructions for manual download\n",
    "print(\"\\n📦 To download the zip file to your local machine, run this from your laptop:\")\n",
    "print(f\"scp username@cluster:{os.getcwd()}/{CHECKPOINT_ZIP} .\")\n"
   ]
  }
 ],
 "metadata": {
  "accelerator": "GPU",
  "colab": {
   "collapsed_sections": [
    "hMqWDc_m6rUC"
   ],
   "gpuType": "T4",
   "provenance": []
  },
  "kernelspec": {
   "display_name": "Python 3",
   "name": "python3"
  },
  "language_info": {
   "codemirror_mode": {
    "name": "ipython",
    "version": 3
   },
   "file_extension": ".py",
   "mimetype": "text/x-python",
   "name": "python",
   "nbconvert_exporter": "python",
   "pygments_lexer": "ipython3",
   "version": "3.8.20"
  },
  "papermill": {
   "default_parameters": {},
   "duration": 155.156736,
   "end_time": "2025-05-10T06:04:59.772390",
   "environment_variables": {},
   "exception": true,
   "input_path": "aron_train_autoencoder.ipynb",
   "output_path": "aron_train_autoencoder_output.ipynb",
   "parameters": {},
   "start_time": "2025-05-10T06:02:24.615654",
   "version": "2.6.0"
  }
 },
 "nbformat": 4,
 "nbformat_minor": 5
}